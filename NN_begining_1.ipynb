{
 "cells": [
  {
   "cell_type": "code",
   "execution_count": 27,
   "id": "516877a7-3144-4112-b7b7-dad9c95ba32f",
   "metadata": {},
   "outputs": [],
   "source": [
    "import numpy as np\n",
    "import pandas as pd\n",
    "import matplotlib.pyplot as plt"
   ]
  },
  {
   "cell_type": "markdown",
   "id": "8ee724ea-3c72-4030-bba1-96a67074315e",
   "metadata": {},
   "source": [
    "# Prvni zakladni přiklad NN"
   ]
  },
  {
   "cell_type": "markdown",
   "id": "26ec8b82-d8ae-46f6-b167-88081d8e8df1",
   "metadata": {},
   "source": [
    "obrazky čisel - + jejich labely ... naučit se rozeznávat čísla"
   ]
  },
  {
   "cell_type": "code",
   "execution_count": null,
   "id": "3e9d6238-46a0-4d0b-b8a6-75a6544c0246",
   "metadata": {},
   "outputs": [],
   "source": []
  },
  {
   "cell_type": "code",
   "execution_count": null,
   "id": "027b7cde-fa51-48d0-adaa-f4d4f04bbe30",
   "metadata": {},
   "outputs": [],
   "source": [
    "from keras.datasets import mnist\n",
    "(train_images, train_labels), (test_images, test_labels) = mnist.load_data()"
   ]
  },
  {
   "cell_type": "code",
   "execution_count": 4,
   "id": "d1ed99a9-53d7-46f7-b47a-73f5d9136ed7",
   "metadata": {},
   "outputs": [
    {
     "data": {
      "text/plain": [
       "(60000, 28, 28)"
      ]
     },
     "execution_count": 4,
     "metadata": {},
     "output_type": "execute_result"
    }
   ],
   "source": [
    "train_images.shape"
   ]
  },
  {
   "cell_type": "code",
   "execution_count": 7,
   "id": "e5af9b68-d3c0-4a28-a83c-d87aba490202",
   "metadata": {},
   "outputs": [],
   "source": [
    "from keras import models\n",
    "from keras import layers\n",
    "\n",
    "network = models.Sequential()\n",
    "network.add(layers.Dense(512, activation = 'relu', input_shape = (28 * 28,)))\n",
    "network.add(layers.Dense(10, activation = 'softmax'))"
   ]
  },
  {
   "cell_type": "code",
   "execution_count": 9,
   "id": "51826684-b66d-4aee-b143-f1712f1ea7dc",
   "metadata": {},
   "outputs": [],
   "source": [
    "network.compile(optimizer = 'adam',   # rmsprop\n",
    "                loss = 'categorical_crossentropy',\n",
    "                metrics = ['accuracy'])"
   ]
  },
  {
   "cell_type": "code",
   "execution_count": 10,
   "id": "625fb5f6-583a-4257-ac90-9ef635c0ae28",
   "metadata": {},
   "outputs": [],
   "source": [
    "train_images = train_images.reshape((60000, 28 * 28 ))\n",
    "train_images = train_images.astype('float32') / 255\n",
    "\n",
    "test_images = test_images.reshape((10000, 28 * 28))\n",
    "test_images = test_images.astype('float32') / 255"
   ]
  },
  {
   "cell_type": "code",
   "execution_count": 18,
   "id": "cafd522e-c691-420b-8a7d-2961d80bee58",
   "metadata": {},
   "outputs": [],
   "source": [
    "from tensorflow.keras.utils import to_categorical\n",
    "\n",
    "train_labels = to_categorical(train_labels)\n",
    "test_labels = to_categorical(test_labels)"
   ]
  },
  {
   "cell_type": "code",
   "execution_count": 20,
   "id": "b932d3fb-999e-4d57-a2f1-3a64a519a5bf",
   "metadata": {},
   "outputs": [
    {
     "name": "stdout",
     "output_type": "stream",
     "text": [
      "Epoch 1/5\n",
      "469/469 [==============================] - 1s 2ms/step - loss: 0.2672 - accuracy: 0.9247\n",
      "Epoch 2/5\n",
      "469/469 [==============================] - 1s 2ms/step - loss: 0.1091 - accuracy: 0.9682\n",
      "Epoch 3/5\n",
      "469/469 [==============================] - 1s 2ms/step - loss: 0.0708 - accuracy: 0.9793\n",
      "Epoch 4/5\n",
      "469/469 [==============================] - 1s 2ms/step - loss: 0.0511 - accuracy: 0.9850\n",
      "Epoch 5/5\n",
      "469/469 [==============================] - 1s 2ms/step - loss: 0.0370 - accuracy: 0.9897\n"
     ]
    },
    {
     "data": {
      "text/plain": [
       "<keras.callbacks.History at 0x1a008c70340>"
      ]
     },
     "execution_count": 20,
     "metadata": {},
     "output_type": "execute_result"
    }
   ],
   "source": [
    "network.fit(train_images, train_labels, epochs = 5, batch_size = 128)"
   ]
  },
  {
   "cell_type": "code",
   "execution_count": 21,
   "id": "9def3b93-01eb-46c4-820c-28e6e334e7de",
   "metadata": {},
   "outputs": [
    {
     "name": "stdout",
     "output_type": "stream",
     "text": [
      "313/313 [==============================] - 0s 499us/step - loss: 0.0679 - accuracy: 0.9784\n",
      "test_acc:  0.9783999919891357\n",
      "test_loss:  0.06794916093349457\n"
     ]
    }
   ],
   "source": [
    "test_loss, test_acc = network.evaluate(test_images, test_labels)\n",
    "print('test_acc: ', test_acc)\n",
    "print('test_loss: ', test_loss)"
   ]
  },
  {
   "cell_type": "markdown",
   "id": "45a73e56-9ed3-47f7-a2a6-1dc01d6b9870",
   "metadata": {},
   "source": [
    "# Reprezentace dat pro NN"
   ]
  },
  {
   "cell_type": "code",
   "execution_count": 22,
   "id": "e9aba16e-fd9c-4240-89f6-cccbe7f6583f",
   "metadata": {},
   "outputs": [
    {
     "name": "stdout",
     "output_type": "stream",
     "text": [
      "12\n",
      "0\n"
     ]
    }
   ],
   "source": [
    "x = np.array(12)\n",
    "print(x)\n",
    "print(x.ndim)"
   ]
  },
  {
   "cell_type": "code",
   "execution_count": 25,
   "id": "de86d54b-2b5a-4e53-82a4-1a30377f9a4a",
   "metadata": {},
   "outputs": [
    {
     "name": "stdout",
     "output_type": "stream",
     "text": [
      "[ 12   2   3  15 122]\n",
      "1\n"
     ]
    }
   ],
   "source": [
    "x = np.array([12, 2 ,3 , 15, 122])\n",
    "print(x)\n",
    "print(x.ndim)"
   ]
  },
  {
   "cell_type": "code",
   "execution_count": 26,
   "id": "e20819bc-bae5-43ad-a93e-5221e9e14708",
   "metadata": {},
   "outputs": [
    {
     "name": "stdout",
     "output_type": "stream",
     "text": [
      "[[  2   2   3  15 122]\n",
      " [  2   2   3  15 122]\n",
      " [  2   2   3  15 122]]\n",
      "2\n"
     ]
    }
   ],
   "source": [
    "x = np.array([[2, 2 ,3 , 15, 122],\n",
    "              [2, 2 ,3 , 15, 122],\n",
    "              [2, 2 ,3 , 15, 122]])\n",
    "print(x)\n",
    "print(x.ndim)"
   ]
  },
  {
   "cell_type": "code",
   "execution_count": 27,
   "id": "c1f1b978-e175-4d45-aeac-4d17ce96b2ba",
   "metadata": {},
   "outputs": [
    {
     "name": "stdout",
     "output_type": "stream",
     "text": [
      "[[[  2   2   3  15 122]\n",
      "  [  2   2   3  15 122]\n",
      "  [  2   2   3  15 122]]\n",
      "\n",
      " [[  2   2   3  15 122]\n",
      "  [  2   2   3  15 122]\n",
      "  [  2   2   3  15 122]]\n",
      "\n",
      " [[  2   2   3  15 122]\n",
      "  [  2   2   3  15 122]\n",
      "  [  2   2   3  15 122]]]\n",
      "3\n"
     ]
    }
   ],
   "source": [
    "x = np.array([[[2, 2 ,3 , 15, 122],\n",
    "              [2, 2 ,3 , 15, 122],\n",
    "              [2, 2 ,3 , 15, 122]],\n",
    "             [[2, 2 ,3 , 15, 122],\n",
    "              [2, 2 ,3 , 15, 122],\n",
    "              [2, 2 ,3 , 15, 122]],\n",
    "             [[2, 2 ,3 , 15, 122],\n",
    "              [2, 2 ,3 , 15, 122],\n",
    "              [2, 2 ,3 , 15, 122]]])\n",
    "print(x)\n",
    "print(x.ndim)"
   ]
  },
  {
   "cell_type": "code",
   "execution_count": 30,
   "id": "95315966-d861-43e0-812f-19cc1cb97ded",
   "metadata": {},
   "outputs": [
    {
     "name": "stdout",
     "output_type": "stream",
     "text": [
      "3\n",
      "(60000, 28, 28)\n",
      "uint8\n"
     ]
    }
   ],
   "source": [
    "(train_images, train_labels), (test_images, test_labels) = mnist.load_data()\n",
    "\n",
    "print(train_images.ndim)\n",
    "print(train_images.shape)\n",
    "print(train_images.dtype)"
   ]
  },
  {
   "cell_type": "code",
   "execution_count": 32,
   "id": "8443dac7-5002-4b0f-9650-170a16784042",
   "metadata": {},
   "outputs": [
    {
     "data": {
      "image/png": "[encoded data removed]",
      "text/plain": [
       "<Figure size 432x288 with 1 Axes>"
      ]
     },
     "metadata": {
      "needs_background": "light"
     },
     "output_type": "display_data"
    }
   ],
   "source": [
    "digit = train_images[5]\n",
    "\n",
    "plt.imshow(digit, cmap = plt.cm.binary)\n",
    "plt.show()"
   ]
  },
  {
   "cell_type": "code",
   "execution_count": 33,
   "id": "2ea16844-1ccc-4940-ac5b-9a65913e29d6",
   "metadata": {},
   "outputs": [
    {
     "name": "stdout",
     "output_type": "stream",
     "text": [
      "(90, 28, 28)\n",
      "(90, 28, 28)\n",
      "(90, 28, 28)\n"
     ]
    }
   ],
   "source": [
    "my_slice = train_images[10:100]\n",
    "print(my_slice.shape)\n",
    "my_slice = train_images[10:100,:,:]\n",
    "print(my_slice.shape)\n",
    "my_slice = train_images[10:100,0:28,0:28]\n",
    "print(my_slice.shape)"
   ]
  },
  {
   "cell_type": "code",
   "execution_count": 34,
   "id": "10b573d0-b79b-4f29-8d15-0c254724e013",
   "metadata": {},
   "outputs": [
    {
     "name": "stdout",
     "output_type": "stream",
     "text": [
      "(60000, 14, 14)\n",
      "(60000, 14, 14)\n"
     ]
    }
   ],
   "source": [
    "my_slice = train_images[:,14:,14:]\n",
    "print(my_slice.shape)\n",
    "my_slice = train_images[:,7:-7,7:-7]\n",
    "print(my_slice.shape)"
   ]
  },
  {
   "cell_type": "code",
   "execution_count": 37,
   "id": "565f7e30-0bbb-40c7-b955-f45475a41690",
   "metadata": {},
   "outputs": [
    {
     "data": {
      "image/png": "[encoded data removed]",
      "text/plain": [
       "<Figure size 432x288 with 1 Axes>"
      ]
     },
     "metadata": {
      "needs_background": "light"
     },
     "output_type": "display_data"
    },
    {
     "data": {
      "image/png": "[encoded data removed]",
      "text/plain": [
       "<Figure size 432x288 with 1 Axes>"
      ]
     },
     "metadata": {
      "needs_background": "light"
     },
     "output_type": "display_data"
    }
   ],
   "source": [
    "plt.imshow(train_images[30], cmap = plt.cm.binary)\n",
    "plt.show()\n",
    "plt.imshow(my_slice[30], cmap = plt.cm.binary)\n",
    "plt.show()"
   ]
  },
  {
   "cell_type": "code",
   "execution_count": 43,
   "id": "89ef46cc-44c7-484b-82c7-67451716a495",
   "metadata": {},
   "outputs": [
    {
     "data": {
      "text/plain": [
       "array([[1, 3, 0],\n",
       "       [0, 3, 0],\n",
       "       [0, 3, 0]])"
      ]
     },
     "execution_count": 43,
     "metadata": {},
     "output_type": "execute_result"
    }
   ],
   "source": [
    "def naive_relu(x):\n",
    "    assert len(x.shape) == 2, 'Fuck this shit!, \"x\" is no 2D vector, hell!'\n",
    "    \n",
    "    x = x.copy()\n",
    "    for i in range(x.shape[0]):\n",
    "        for j in range(x.shape[1]):\n",
    "            x[i,j] = max(x[i,j],0)\n",
    "    return x\n",
    "\n",
    "x = np.array([[ 1, 3, -2],\n",
    "              [-4, 3, -2],\n",
    "              [-3 ,3 ,-2]])\n",
    "naive_relu(x)"
   ]
  },
  {
   "cell_type": "code",
   "execution_count": 44,
   "id": "e0434d02-7900-4d8d-b5a2-a20235fe9705",
   "metadata": {},
   "outputs": [
    {
     "ename": "AssertionError",
     "evalue": "Fuck this shit!, \"x\" is no 2D vector, hell!",
     "output_type": "error",
     "traceback": [
      "\u001b[1;31m---------------------------------------------------------------------------\u001b[0m",
      "\u001b[1;31mAssertionError\u001b[0m                            Traceback (most recent call last)",
      "\u001b[1;32m~\\AppData\\Local\\Temp/ipykernel_8216/2857187973.py\u001b[0m in \u001b[0;36m<module>\u001b[1;34m\u001b[0m\n\u001b[0;32m      1\u001b[0m \u001b[0mx\u001b[0m \u001b[1;33m=\u001b[0m \u001b[0mnp\u001b[0m\u001b[1;33m.\u001b[0m\u001b[0marray\u001b[0m\u001b[1;33m(\u001b[0m\u001b[1;33m[\u001b[0m\u001b[1;36m1\u001b[0m\u001b[1;33m,\u001b[0m\u001b[1;36m3\u001b[0m\u001b[1;33m,\u001b[0m\u001b[1;33m-\u001b[0m\u001b[1;36m2\u001b[0m\u001b[1;33m]\u001b[0m\u001b[1;33m)\u001b[0m\u001b[1;33m\u001b[0m\u001b[1;33m\u001b[0m\u001b[0m\n\u001b[1;32m----> 2\u001b[1;33m \u001b[0mnaive_relu\u001b[0m\u001b[1;33m(\u001b[0m\u001b[0mx\u001b[0m\u001b[1;33m)\u001b[0m\u001b[1;33m\u001b[0m\u001b[1;33m\u001b[0m\u001b[0m\n\u001b[0m",
      "\u001b[1;32m~\\AppData\\Local\\Temp/ipykernel_8216/2784638497.py\u001b[0m in \u001b[0;36mnaive_relu\u001b[1;34m(x)\u001b[0m\n\u001b[0;32m      1\u001b[0m \u001b[1;32mdef\u001b[0m \u001b[0mnaive_relu\u001b[0m\u001b[1;33m(\u001b[0m\u001b[0mx\u001b[0m\u001b[1;33m)\u001b[0m\u001b[1;33m:\u001b[0m\u001b[1;33m\u001b[0m\u001b[1;33m\u001b[0m\u001b[0m\n\u001b[1;32m----> 2\u001b[1;33m     \u001b[1;32massert\u001b[0m \u001b[0mlen\u001b[0m\u001b[1;33m(\u001b[0m\u001b[0mx\u001b[0m\u001b[1;33m.\u001b[0m\u001b[0mshape\u001b[0m\u001b[1;33m)\u001b[0m \u001b[1;33m==\u001b[0m \u001b[1;36m2\u001b[0m\u001b[1;33m,\u001b[0m \u001b[1;34m'Fuck this shit!, \"x\" is no 2D vector, hell!'\u001b[0m\u001b[1;33m\u001b[0m\u001b[1;33m\u001b[0m\u001b[0m\n\u001b[0m\u001b[0;32m      3\u001b[0m \u001b[1;33m\u001b[0m\u001b[0m\n\u001b[0;32m      4\u001b[0m     \u001b[0mx\u001b[0m \u001b[1;33m=\u001b[0m \u001b[0mx\u001b[0m\u001b[1;33m.\u001b[0m\u001b[0mcopy\u001b[0m\u001b[1;33m(\u001b[0m\u001b[1;33m)\u001b[0m\u001b[1;33m\u001b[0m\u001b[1;33m\u001b[0m\u001b[0m\n\u001b[0;32m      5\u001b[0m     \u001b[1;32mfor\u001b[0m \u001b[0mi\u001b[0m \u001b[1;32min\u001b[0m \u001b[0mrange\u001b[0m\u001b[1;33m(\u001b[0m\u001b[0mx\u001b[0m\u001b[1;33m.\u001b[0m\u001b[0mshape\u001b[0m\u001b[1;33m[\u001b[0m\u001b[1;36m0\u001b[0m\u001b[1;33m]\u001b[0m\u001b[1;33m)\u001b[0m\u001b[1;33m:\u001b[0m\u001b[1;33m\u001b[0m\u001b[1;33m\u001b[0m\u001b[0m\n",
      "\u001b[1;31mAssertionError\u001b[0m: Fuck this shit!, \"x\" is no 2D vector, hell!"
     ]
    }
   ],
   "source": [
    "x = np.array([1,3,-2])\n",
    "naive_relu(x)"
   ]
  },
  {
   "cell_type": "markdown",
   "id": "bbd92f7f-0570-4909-830e-c0f8cc366b4f",
   "metadata": {},
   "source": [
    "# Zmena tvaru vektoru"
   ]
  },
  {
   "cell_type": "code",
   "execution_count": 50,
   "id": "f97e6c79-b37f-411f-933f-779095472e61",
   "metadata": {},
   "outputs": [
    {
     "name": "stdout",
     "output_type": "stream",
     "text": [
      "(3, 2)\n",
      "[[0.]\n",
      " [1.]\n",
      " [2.]\n",
      " [3.]\n",
      " [4.]\n",
      " [5.]]\n",
      "(6, 1)\n",
      "[[0. 1. 2.]\n",
      " [3. 4. 5.]]\n",
      "(2, 3)\n"
     ]
    }
   ],
   "source": [
    "x = np.array([[0., 1.],\n",
    "              [2., 3.],\n",
    "              [4., 5.]])\n",
    "print(x.shape)\n",
    "print(x.reshape((6,1)))\n",
    "print(x.reshape((6,1)).shape)\n",
    "print(x.reshape((2,3)))\n",
    "print(x.reshape((2,3)).shape)"
   ]
  },
  {
   "cell_type": "code",
   "execution_count": 53,
   "id": "4674d52d-5f6a-4b9a-a122-05aaa88302fa",
   "metadata": {},
   "outputs": [
    {
     "name": "stdout",
     "output_type": "stream",
     "text": [
      "[[0. 0. 0. 0. 0.]\n",
      " [0. 3. 0. 0. 0.]]\n",
      "[[0. 0.]\n",
      " [0. 3.]\n",
      " [0. 0.]\n",
      " [0. 0.]\n",
      " [0. 0.]]\n",
      "[[0. 0.]\n",
      " [0. 0.]\n",
      " [0. 0.]\n",
      " [3. 0.]\n",
      " [0. 0.]]\n"
     ]
    }
   ],
   "source": [
    "x = np.zeros((2,5))\n",
    "x[1,1] = 3\n",
    "print(x)\n",
    "print(x.T)\n",
    "print(x.reshape(5,2))"
   ]
  },
  {
   "cell_type": "code",
   "execution_count": 54,
   "id": "a5c8de0f-dffb-408d-b0cd-f030dcab03b8",
   "metadata": {},
   "outputs": [],
   "source": [
    "from keras import models\n",
    "from keras import layers\n",
    "\n",
    "model = models.Sequential()\n",
    "model.add(layers.Dense(32, activation = 'relu', input_shape=(784,)))\n",
    "model.add(layers.Dense(10, activation = 'softmax'))\n",
    "\n",
    "# same model ... other way\n",
    "input_tensor = layers.Input(shape=(784,))\n",
    "x = layers.Dense(32, activation='relu')(input_tensor)\n",
    "output_tensor = layers.Dense(10, activation='softmax')(x)\n",
    "model = models.Model(inputs = input_tensor, outputs = output_tensor) "
   ]
  },
  {
   "cell_type": "code",
   "execution_count": 62,
   "id": "3f9a1a9d-ca26-4b6f-b557-4f179dbab975",
   "metadata": {},
   "outputs": [],
   "source": [
    "from tensorflow.keras import optimizers\n",
    "\n",
    "model.compile(optimizer = optimizers.RMSprop(learning_rate = 0.001),\n",
    "              loss='mse',\n",
    "              metrics = ['accuracy'])\n",
    "\n",
    "# model.fit(input_tensor, target_tensor, batch_size = 128, epochs = 10)"
   ]
  },
  {
   "cell_type": "code",
   "execution_count": 1,
   "id": "fb7e31a4-c75a-434f-ba8c-c35d0aea6217",
   "metadata": {},
   "outputs": [
    {
     "name": "stdout",
     "output_type": "stream",
     "text": [
      "^C\n"
     ]
    }
   ],
   "source": [
    "!pip install tensorflow-gpu"
   ]
  },
  {
   "cell_type": "code",
   "execution_count": 2,
   "id": "cc0d8264-fa3d-4f70-9d66-7033178669d5",
   "metadata": {},
   "outputs": [
    {
     "name": "stdout",
     "output_type": "stream",
     "text": [
      "Epoch 1/5\n",
      "469/469 [==============================] - 1s 2ms/step - loss: 0.2699 - accuracy: 0.9232\n",
      "Epoch 2/5\n",
      "469/469 [==============================] - 1s 3ms/step - loss: 0.1087 - accuracy: 0.9684\n",
      "Epoch 3/5\n",
      "469/469 [==============================] - 1s 2ms/step - loss: 0.0719 - accuracy: 0.9789\n",
      "Epoch 4/5\n",
      "469/469 [==============================] - 1s 2ms/step - loss: 0.0488 - accuracy: 0.9860\n",
      "Epoch 5/5\n",
      "469/469 [==============================] - 1s 2ms/step - loss: 0.0370 - accuracy: 0.9893\n",
      "313/313 [==============================] - 0s 520us/step - loss: 0.0664 - accuracy: 0.9790\n",
      "test_acc:  0.9789999723434448\n",
      "test_loss:  0.06636551767587662\n",
      "time:  6.17 s\n"
     ]
    }
   ],
   "source": [
    "import time\n",
    "from keras.datasets import mnist\n",
    "from keras import models\n",
    "from keras import layers\n",
    "from tensorflow.keras.utils import to_categorical\n",
    "\n",
    "start = time.time()\n",
    "\n",
    "\n",
    "(train_images, train_labels), (test_images, test_labels) = mnist.load_data()\n",
    "\n",
    "\n",
    "network = models.Sequential()\n",
    "network.add(layers.Dense(512, activation = 'relu', input_shape = (28 * 28,)))\n",
    "network.add(layers.Dense(10, activation = 'softmax'))\n",
    "\n",
    "network.compile(optimizer = 'adam',   # rmsprop\n",
    "                loss = 'categorical_crossentropy',\n",
    "                metrics = ['accuracy'])\n",
    "\n",
    "train_images = train_images.reshape((60000, 28 * 28 ))\n",
    "train_images = train_images.astype('float32') / 255\n",
    "\n",
    "test_images = test_images.reshape((10000, 28 * 28))\n",
    "test_images = test_images.astype('float32') / 255\n",
    "\n",
    "train_labels = to_categorical(train_labels)\n",
    "test_labels = to_categorical(test_labels)\n",
    "\n",
    "network.fit(train_images, train_labels, epochs = 5, batch_size = 128)\n",
    "\n",
    "\n",
    "test_loss, test_acc = network.evaluate(test_images, test_labels)\n",
    "print('test_acc: ', test_acc)\n",
    "print('test_loss: ', test_loss)\n",
    "print('time: ', round(time.time()-start,2),'s')"
   ]
  },
  {
   "cell_type": "markdown",
   "id": "77bd9053-7608-4634-a7c8-f58c13a747ab",
   "metadata": {},
   "source": [
    "# Klasifikace typu ANO / NE"
   ]
  },
  {
   "cell_type": "code",
   "execution_count": null,
   "id": "e7e3cdf1-6397-4586-a52d-04fb64de0b20",
   "metadata": {},
   "outputs": [],
   "source": [
    "from keras.datasets import imdb\n",
    "\n",
    "(train_data, train_labels), (test_data, test_labels) = imdb.load_data(num_words = 10000)"
   ]
  },
  {
   "cell_type": "code",
   "execution_count": 17,
   "id": "68b20b5b-ac39-44a9-8abf-df1868ddcdde",
   "metadata": {},
   "outputs": [
    {
     "data": {
      "text/plain": [
       "9999"
      ]
     },
     "execution_count": 17,
     "metadata": {},
     "output_type": "execute_result"
    }
   ],
   "source": [
    "max([max(i) for i in test_data])"
   ]
  },
  {
   "cell_type": "code",
   "execution_count": 12,
   "id": "fd328f7c-ae94-46e2-9a0a-f63957f10a1f",
   "metadata": {},
   "outputs": [
    {
     "name": "stdout",
     "output_type": "stream",
     "text": [
      "Downloading data from https://storage.googleapis.com/tensorflow/tf-keras-datasets/imdb_word_index.json\n",
      "1646592/1641221 [==============================] - 1s 1us/step\n",
      "1654784/1641221 [==============================] - 1s 1us/step\n"
     ]
    }
   ],
   "source": [
    "word_index = imdb.get_word_index()"
   ]
  },
  {
   "cell_type": "code",
   "execution_count": 13,
   "id": "e1837e09-bbed-4026-a9a6-eae60f67aa5f",
   "metadata": {},
   "outputs": [],
   "source": [
    "\n",
    "reverse_word_index = dict([(value, key) for (key,value) in word_index.items()])"
   ]
  },
  {
   "cell_type": "code",
   "execution_count": 21,
   "id": "3eb6910b-208a-42f0-8d6c-928f9e67ad75",
   "metadata": {},
   "outputs": [
    {
     "data": {
      "text/plain": [
       "\"? this film was just brilliant casting location scenery story direction everyone's really suited the part they played and you could just imagine being there robert ? is an amazing actor and now the same being director ? father came from the same scottish island as myself so i loved the fact there was a real connection with this film the witty remarks throughout the film were great it was just brilliant so much that i bought the film as soon as it was released for ? and would recommend it to everyone to watch and the fly fishing was amazing really cried at the end it was so sad and you know what they say if you cry at a film it must have been good and this definitely was also ? to the two little boy's that played the ? of norman and paul they were just brilliant children are often left out of the ? list i think because the stars that play them all grown up are such a big profile for the whole film but these children are amazing and should be praised for what they have done don't you think the whole story was so lovely because it was true and was someone's life after all that was shared with us all\""
      ]
     },
     "execution_count": 21,
     "metadata": {},
     "output_type": "execute_result"
    }
   ],
   "source": [
    "decoced_rewiew = ' '.join([reverse_word_index.get(i - 3,'?') for i in train_data[0]])\n",
    "decoced_rewiew                           "
   ]
  },
  {
   "cell_type": "code",
   "execution_count": 29,
   "id": "b5276faa-d13b-4c68-9f00-294d7be21640",
   "metadata": {},
   "outputs": [],
   "source": [
    "def vectorize_sequences(sequences, dimension = 10000):\n",
    "    results = np.zeros((len(sequences), dimension))\n",
    "    for i, sequence in enumerate(sequences):\n",
    "        results[i, sequence] = 1\n",
    "    return results               "
   ]
  },
  {
   "cell_type": "code",
   "execution_count": 40,
   "id": "a10210a6-9004-4839-b2ac-e97eb60ae844",
   "metadata": {},
   "outputs": [],
   "source": [
    "X_train = vectorize_sequences(train_data)\n",
    "X_test = vectorize_sequences(test_data)"
   ]
  },
  {
   "cell_type": "code",
   "execution_count": 41,
   "id": "fd7bc280-82ad-4449-a143-f4ccb84f804b",
   "metadata": {},
   "outputs": [],
   "source": [
    "y_train = np.asarray(train_labels).astype('float32') \n",
    "y_test = np.asarray(test_labels).astype('float32')"
   ]
  },
  {
   "cell_type": "code",
   "execution_count": 85,
   "id": "9b78ae1e-78fc-4986-9e1e-a8e56196838d",
   "metadata": {},
   "outputs": [],
   "source": [
    "from keras import models\n",
    "from keras import layers\n",
    "\n",
    "from tensorflow.keras import optimizers\n",
    "from keras import metrics\n",
    "from keras import losses\n",
    "\n",
    "model = models.Sequential()\n",
    "model.add(layers.Dense(16, activation = 'relu', input_shape = (10000,)))\n",
    "model.add(layers.Dense(16, activation = 'relu'))\n",
    "model.add(layers.Dense(1, activation = 'sigmoid'))\n",
    "\n",
    "#model.compile(optimizer = 'adam',\n",
    "#              loss = 'binary_crossentropy',\n",
    "#              metrics = ['accuracy'])\n",
    "\n",
    "#model.compile(optimizer = optimizers.Adam(learning_rate = 0.001),\n",
    "#              loss = losses.binary_crossentropy,\n",
    "#              metrics = [metrics.binary_accuracy])\n",
    "\n",
    "model.compile(optimizer = 'rmsprop',\n",
    "              loss = 'binary_crossentropy',\n",
    "              metrics = ['acc'])"
   ]
  },
  {
   "cell_type": "code",
   "execution_count": 86,
   "id": "6dace7ad-f27f-471b-bbc0-87ae13e066a7",
   "metadata": {},
   "outputs": [],
   "source": [
    "x_val = X_train[:10000]\n",
    "partial_x_train = X_train[10000:]\n",
    "\n",
    "y_val = y_train[:10000]\n",
    "partial_y_train = y_train[10000:]"
   ]
  },
  {
   "cell_type": "code",
   "execution_count": 87,
   "id": "085339bb-3c0c-47a2-80c2-7c0bfef385c3",
   "metadata": {},
   "outputs": [
    {
     "name": "stdout",
     "output_type": "stream",
     "text": [
      "Epoch 1/20\n",
      "30/30 [==============================] - 1s 18ms/step - loss: 0.5143 - acc: 0.7895 - val_loss: 0.3805 - val_acc: 0.8711\n",
      "Epoch 2/20\n",
      "30/30 [==============================] - 0s 11ms/step - loss: 0.3048 - acc: 0.9035 - val_loss: 0.3060 - val_acc: 0.8852\n",
      "Epoch 3/20\n",
      "30/30 [==============================] - 0s 11ms/step - loss: 0.2218 - acc: 0.9265 - val_loss: 0.2988 - val_acc: 0.8801\n",
      "Epoch 4/20\n",
      "30/30 [==============================] - 0s 11ms/step - loss: 0.1749 - acc: 0.9430 - val_loss: 0.2723 - val_acc: 0.8911\n",
      "Epoch 5/20\n",
      "30/30 [==============================] - 0s 10ms/step - loss: 0.1409 - acc: 0.9554 - val_loss: 0.3054 - val_acc: 0.8764\n",
      "Epoch 6/20\n",
      "30/30 [==============================] - 0s 10ms/step - loss: 0.1195 - acc: 0.9632 - val_loss: 0.2911 - val_acc: 0.8867\n",
      "Epoch 7/20\n",
      "30/30 [==============================] - 0s 10ms/step - loss: 0.1027 - acc: 0.9682 - val_loss: 0.3077 - val_acc: 0.8839\n",
      "Epoch 8/20\n",
      "30/30 [==============================] - 0s 10ms/step - loss: 0.0826 - acc: 0.9753 - val_loss: 0.3954 - val_acc: 0.8616\n",
      "Epoch 9/20\n",
      "30/30 [==============================] - 0s 10ms/step - loss: 0.0701 - acc: 0.9813 - val_loss: 0.3785 - val_acc: 0.8694\n",
      "Epoch 10/20\n",
      "30/30 [==============================] - 0s 11ms/step - loss: 0.0572 - acc: 0.9867 - val_loss: 0.4053 - val_acc: 0.8657\n",
      "Epoch 11/20\n",
      "30/30 [==============================] - 0s 10ms/step - loss: 0.0482 - acc: 0.9887 - val_loss: 0.4441 - val_acc: 0.8704\n",
      "Epoch 12/20\n",
      "30/30 [==============================] - 0s 11ms/step - loss: 0.0400 - acc: 0.9903 - val_loss: 0.4351 - val_acc: 0.8703\n",
      "Epoch 13/20\n",
      "30/30 [==============================] - 0s 14ms/step - loss: 0.0332 - acc: 0.9927 - val_loss: 0.5577 - val_acc: 0.8585\n",
      "Epoch 14/20\n",
      "30/30 [==============================] - 0s 10ms/step - loss: 0.0282 - acc: 0.9947 - val_loss: 0.4894 - val_acc: 0.8721\n",
      "Epoch 15/20\n",
      "30/30 [==============================] - 0s 10ms/step - loss: 0.0209 - acc: 0.9970 - val_loss: 0.5216 - val_acc: 0.8710\n",
      "Epoch 16/20\n",
      "30/30 [==============================] - 0s 11ms/step - loss: 0.0204 - acc: 0.9960 - val_loss: 0.5554 - val_acc: 0.8698\n",
      "Epoch 17/20\n",
      "30/30 [==============================] - 0s 11ms/step - loss: 0.0132 - acc: 0.9989 - val_loss: 0.6081 - val_acc: 0.8675\n",
      "Epoch 18/20\n",
      "30/30 [==============================] - 0s 11ms/step - loss: 0.0127 - acc: 0.9984 - val_loss: 0.6371 - val_acc: 0.8685\n",
      "Epoch 19/20\n",
      "30/30 [==============================] - 0s 11ms/step - loss: 0.0087 - acc: 0.9995 - val_loss: 0.6639 - val_acc: 0.8673\n",
      "Epoch 20/20\n",
      "30/30 [==============================] - 0s 11ms/step - loss: 0.0091 - acc: 0.9987 - val_loss: 0.7033 - val_acc: 0.8654\n"
     ]
    }
   ],
   "source": [
    "history = model.fit(partial_x_train,\n",
    "                    partial_y_train,\n",
    "                    epochs = 20,\n",
    "                    batch_size = 512,\n",
    "                    validation_data = (x_val,y_val))\n",
    "                    "
   ]
  },
  {
   "cell_type": "code",
   "execution_count": 88,
   "id": "44fc74af-7d0c-4b07-a672-97cc9df439c9",
   "metadata": {},
   "outputs": [
    {
     "data": {
      "text/plain": [
       "dict_keys(['loss', 'acc', 'val_loss', 'val_acc'])"
      ]
     },
     "execution_count": 88,
     "metadata": {},
     "output_type": "execute_result"
    }
   ],
   "source": [
    "history_dict = history.history\n",
    "history_dict.keys()"
   ]
  },
  {
   "cell_type": "code",
   "execution_count": 89,
   "id": "63927459-04f5-4aaa-81e3-a83b8efd0600",
   "metadata": {},
   "outputs": [
    {
     "data": {
      "image/png": "[encoded data removed]",
      "text/plain": [
       "<Figure size 1008x576 with 1 Axes>"
      ]
     },
     "metadata": {
      "needs_background": "light"
     },
     "output_type": "display_data"
    }
   ],
   "source": [
    "loss_values = history_dict['loss']\n",
    "val_loss_values = history_dict['val_loss']\n",
    "\n",
    "epochs = range(1,len(loss_values)+1)\n",
    "\n",
    "plt.figure(figsize = [14,8])\n",
    "plt.plot(epochs, loss_values, 'bo', label = 'training loss')\n",
    "plt.plot(epochs, val_loss_values, 'b', label = 'validation loss')\n",
    "plt.title(\"training and validation loss\")\n",
    "plt.xlabel('epochs')\n",
    "plt.ylabel('loss')\n",
    "plt.legend()\n",
    "plt.show()\n",
    "\n",
    "#plt.clf"
   ]
  },
  {
   "cell_type": "code",
   "execution_count": 90,
   "id": "4d10dcd8-3ea8-4afe-b224-cd8a8a101ae3",
   "metadata": {},
   "outputs": [
    {
     "data": {
      "image/png": "[encoded data removed]",
      "text/plain": [
       "<Figure size 1008x576 with 1 Axes>"
      ]
     },
     "metadata": {
      "needs_background": "light"
     },
     "output_type": "display_data"
    }
   ],
   "source": [
    "loss_values = history_dict['acc']\n",
    "val_loss_values = history_dict['val_acc']\n",
    "\n",
    "epochs = range(1,len(loss_values)+1)\n",
    "\n",
    "plt.figure(figsize = [14,8])\n",
    "plt.plot(epochs, loss_values, 'bo', label = 'training acc')\n",
    "plt.plot(epochs, val_loss_values, 'b', label = 'validation acc')\n",
    "plt.title(\"training and validation loss\")\n",
    "plt.xlabel('epochs')\n",
    "plt.ylabel('loss')\n",
    "plt.legend()\n",
    "plt.show()"
   ]
  },
  {
   "cell_type": "code",
   "execution_count": 93,
   "id": "46879c99-99b7-4e46-a46e-a4a7d36f7820",
   "metadata": {},
   "outputs": [
    {
     "data": {
      "text/plain": [
       "array([[0.00953025],\n",
       "       [1.        ],\n",
       "       [0.948421  ],\n",
       "       ...,\n",
       "       [0.00102738],\n",
       "       [0.0095453 ],\n",
       "       [0.7254155 ]], dtype=float32)"
      ]
     },
     "execution_count": 93,
     "metadata": {},
     "output_type": "execute_result"
    }
   ],
   "source": [
    "model.predict(X_test)"
   ]
  },
  {
   "cell_type": "markdown",
   "id": "eae80b18-4302-4c74-99a7-9b5e0644ace5",
   "metadata": {},
   "source": [
    "# Klasifikace do více tříd"
   ]
  },
  {
   "cell_type": "code",
   "execution_count": 94,
   "id": "1ab6f485-f83a-4dec-a963-78353a705b1d",
   "metadata": {},
   "outputs": [
    {
     "name": "stdout",
     "output_type": "stream",
     "text": [
      "Downloading data from https://storage.googleapis.com/tensorflow/tf-keras-datasets/reuters.npz\n",
      "2113536/2110848 [==============================] - 1s 0us/step\n",
      "2121728/2110848 [==============================] - 1s 0us/step\n"
     ]
    }
   ],
   "source": [
    "from keras.datasets import reuters\n",
    "\n",
    "(train_data, train_labels), (test_data, test_labels) = reuters.load_data(num_words = 10000)"
   ]
  },
  {
   "cell_type": "code",
   "execution_count": 95,
   "id": "e248094c-ce81-40f2-9b53-48a0b3b196e8",
   "metadata": {},
   "outputs": [
    {
     "data": {
      "text/plain": [
       "8982"
      ]
     },
     "execution_count": 95,
     "metadata": {},
     "output_type": "execute_result"
    }
   ],
   "source": [
    "len(train_data)"
   ]
  },
  {
   "cell_type": "code",
   "execution_count": 96,
   "id": "72df7287-7966-4b30-bf45-95f4757acf87",
   "metadata": {},
   "outputs": [
    {
     "name": "stdout",
     "output_type": "stream",
     "text": [
      "Downloading data from https://storage.googleapis.com/tensorflow/tf-keras-datasets/reuters_word_index.json\n",
      "557056/550378 [==============================] - 0s 1us/step\n",
      "565248/550378 [==============================] - 0s 1us/step\n"
     ]
    }
   ],
   "source": [
    "word_index = reuters.get_word_index()\n",
    "reverse_word_index = dict([(value, key) for (key,value) in word_index.items()])\n",
    "decoced_rewiew = ' '.join([reverse_word_index.get(i - 3,'?') for i in train_data[0]])"
   ]
  },
  {
   "cell_type": "code",
   "execution_count": 100,
   "id": "fb53d3d0-9dc2-43a1-9433-a7001e410cf3",
   "metadata": {},
   "outputs": [
    {
     "data": {
      "text/plain": [
       "'? ? ? said as a result of its december acquisition of space co it expects earnings per share in 1987 of 1 15 to 1 30 dlrs per share up from 70 cts in 1986 the company said pretax net should rise to nine to 10 mln dlrs from six mln dlrs in 1986 and rental operation revenues to 19 to 22 mln dlrs from 12 5 mln dlrs it said cash flow per share this year should be 2 50 to three dlrs reuter 3'"
      ]
     },
     "execution_count": 100,
     "metadata": {},
     "output_type": "execute_result"
    }
   ],
   "source": [
    "decoced_rewiew"
   ]
  },
  {
   "cell_type": "code",
   "execution_count": null,
   "id": "c0dd3b81-a8ad-4a01-8462-1ccc67c0aacb",
   "metadata": {},
   "outputs": [],
   "source": []
  }
 ],
 "metadata": {
  "kernelspec": {
   "display_name": "Python 3 (ipykernel)",
   "language": "python",
   "name": "python3"
  },
  "language_info": {
   "codemirror_mode": {
    "name": "ipython",
    "version": 3
   },
   "file_extension": ".py",
   "mimetype": "text/x-python",
   "name": "python",
   "nbconvert_exporter": "python",
   "pygments_lexer": "ipython3",
   "version": "3.9.1"
  }
 },
 "nbformat": 4,
 "nbformat_minor": 5
}
