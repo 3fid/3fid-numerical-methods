{
 "cells": [
  {
   "cell_type": "code",
   "execution_count": 11,
   "id": "fb218097-21c1-4be5-b663-d862515ae5c3",
   "metadata": {},
   "outputs": [],
   "source": [
    "import numpy as np\n",
    "from itertools import permutations\n",
    "from itertools import combinations_with_replacement\n",
    "import collections\n",
    "import time\n",
    "import matplotlib.pyplot as plt"
   ]
  },
  {
   "cell_type": "code",
   "execution_count": 19,
   "id": "1be19b02-7338-41c9-96c2-db9fbf9181d4",
   "metadata": {},
   "outputs": [],
   "source": [
    "def argmin(iterable):\n",
    "    return min(enumerate(iterable), key=lambda x: x[1])[0]\n",
    "\n",
    "def argmax(iterable):\n",
    "    return max(enumerate(iterable), key=lambda x: x[1])[0]\n",
    "\n",
    "def f_lives(n):\n",
    "    lives = np.ones(n)*3\n",
    "    lives[-1] = 1\n",
    "    return lives"
   ]
  },
  {
   "cell_type": "code",
   "execution_count": 30,
   "id": "670b22d5-49b7-4c32-85fa-8dc358c6c990",
   "metadata": {},
   "outputs": [
    {
     "name": "stdout",
     "output_type": "stream",
     "text": [
      "----------round  1 ---------- 5 0.0 min\n",
      "prob: 0\n",
      "----------round  2 ---------- 15 0.0 min\n",
      "prob: 0\n",
      "----------round  3 ---------- 35 0.0 min\n",
      "prob: 0.032\n",
      "----------round  4 ---------- 70 0.0 min\n",
      "prob: 0.1088\n",
      "----------round  5 ---------- 126 0.0 min\n",
      "prob: 0.224\n",
      "----------round  6 ---------- 210 0.0 min\n",
      "prob: 0.34688\n",
      "----------round  7 ---------- 330 0.0 min\n",
      "prob: 0.44902\n",
      "----------round  8 ---------- 495 0.0 min\n",
      "prob: 0.51956\n",
      "----------round  9 ---------- 715 0.0 min\n",
      "prob: 0.57272\n",
      "Probability: 0.5727150080000009\n"
     ]
    }
   ],
   "source": [
    "\n",
    "t = time.time()\n",
    "\n",
    "\n",
    "n=5\n",
    "prob = 0\n",
    "for round_i in range(1,2+2*(n-1)):\n",
    "    print(\"----------round \",round_i,\"----------\",len(list(combinations_with_replacement(np.arange(n),round_i))),round((time.time()-t)/60,1),\"min\")\n",
    "    for shoots in combinations_with_replacement(np.arange(n),round_i):\n",
    "        lives = f_lives(n)\n",
    "        for shoot in shoots:\n",
    "            lives[shoot] -= 1\n",
    "        \n",
    "        if len([i for i in lives if i == 0]) == 1:\n",
    "            if lives[-1] == 1:\n",
    "                ways = len(set(list(permutations(shoots))))\n",
    "                prob += ways/n**round_i\n",
    "                state = ':) '+str(ways)+'/'+str(n**round_i) + ' = ' + str(round(ways/n**round_i,3))\n",
    "            else:\n",
    "                ways = len(set(list(permutations(shoots[:-1]))))\n",
    "                state = ''\n",
    "        if len([i for i in lives if i == 0]) == 1 and min(lives)>=0:  \n",
    "            a = 1\n",
    "            #print(ways,' ',lives,' ',state)\n",
    "            \n",
    "    print(\"prob:\",round(prob,5))\n",
    "print(\"Probability:\",prob)            "
   ]
  },
  {
   "cell_type": "code",
   "execution_count": null,
   "id": "834eec87-e041-46fb-8ae9-27a1ca1cb61b",
   "metadata": {},
   "outputs": [],
   "source": []
  },
  {
   "cell_type": "code",
   "execution_count": 3,
   "id": "40ea9cb3-91cf-4f02-8131-d1de0e07d681",
   "metadata": {},
   "outputs": [],
   "source": [
    "n = 5"
   ]
  },
  {
   "cell_type": "code",
   "execution_count": 4,
   "id": "429e1f5c-45de-400a-bcb9-e8504f1b28d0",
   "metadata": {},
   "outputs": [
    {
     "data": {
      "text/plain": [
       "array([3., 3., 3., 3., 1.])"
      ]
     },
     "execution_count": 4,
     "metadata": {},
     "output_type": "execute_result"
    }
   ],
   "source": [
    "f_lives(n)"
   ]
  },
  {
   "cell_type": "code",
   "execution_count": 35,
   "id": "232ea7aa-7c56-4333-bda1-28a9969fabcd",
   "metadata": {},
   "outputs": [
    {
     "name": "stdout",
     "output_type": "stream",
     "text": [
      "time: 22.28 s\n",
      "probability: 28.6798 %\n"
     ]
    }
   ],
   "source": [
    "A = []\n",
    "iteration = 1000000\n",
    "win_lose = [0,0]\n",
    "t = time.time()\n",
    "for i in range(iteration):\n",
    "    lives = f_lives(n)\n",
    "    while min(lives) != 0:\n",
    "        shoot = np.random.randint(n)\n",
    "        lives[shoot] -= 1\n",
    "    if argmin(lives) != n-1:\n",
    "        win_lose[0] += 1 # win\n",
    "    else:\n",
    "        win_lose[1] += 1 # lose\n",
    "print(\"time:\",round(time.time() - t,2),\"s\")\n",
    "print(\"probability:\",100*win_lose[0]/sum(win_lose),\"%\")"
   ]
  },
  {
   "cell_type": "code",
   "execution_count": 37,
   "id": "3f7a7088-9add-447b-a78b-4e90dc6563ea",
   "metadata": {},
   "outputs": [
    {
     "name": "stdout",
     "output_type": "stream",
     "text": [
      "time: 22.61 s\n",
      "probability: 28.66 %\n"
     ]
    }
   ],
   "source": [
    "A = []\n",
    "iteration = 1000000\n",
    "win_lose = [0,0]\n",
    "t = time.time()\n",
    "for i in range(iteration):\n",
    "    lives = f_lives(n)\n",
    "    while min(lives) != 0:\n",
    "        shoot = np.random.randint(n)\n",
    "        lives[shoot] -= 1\n",
    "    if argmin(lives) != n-1:\n",
    "        win_lose[0] += 1 # win\n",
    "    else:\n",
    "        win_lose[1] += 1 # lose\n",
    "print(\"time:\",round(time.time() - t,2),\"s\")\n",
    "print(\"probability:\",100*win_lose[0]/sum(win_lose),\"%\")"
   ]
  },
  {
   "cell_type": "code",
   "execution_count": 38,
   "id": "025b65ee-ce1a-4370-976a-36581301a425",
   "metadata": {},
   "outputs": [
    {
     "data": {
      "text/plain": [
       "[286600, 713400]"
      ]
     },
     "execution_count": 38,
     "metadata": {},
     "output_type": "execute_result"
    }
   ],
   "source": [
    "win_lose"
   ]
  },
  {
   "cell_type": "code",
   "execution_count": 36,
   "id": "9c482d79-d779-45d4-bffd-bcac65b3ed94",
   "metadata": {},
   "outputs": [
    {
     "data": {
      "text/plain": [
       "[286798, 713202]"
      ]
     },
     "execution_count": 36,
     "metadata": {},
     "output_type": "execute_result"
    }
   ],
   "source": [
    "win_lose"
   ]
  },
  {
   "cell_type": "code",
   "execution_count": null,
   "id": "bbaebb09-c40c-4b54-83f1-61fc015ec7be",
   "metadata": {},
   "outputs": [],
   "source": []
  },
  {
   "cell_type": "code",
   "execution_count": 23,
   "id": "9f3ed90f-5823-4c47-b33d-706d275a845f",
   "metadata": {},
   "outputs": [
    {
     "data": {
      "text/plain": [
       "(3, 4)"
      ]
     },
     "execution_count": 23,
     "metadata": {},
     "output_type": "execute_result"
    }
   ],
   "source": []
  },
  {
   "cell_type": "code",
   "execution_count": 49,
   "id": "530eed64-0921-4bbe-8cba-5630d670bf19",
   "metadata": {},
   "outputs": [
    {
     "name": "stdout",
     "output_type": "stream",
     "text": [
      "----------round  1 ---------- 2 0.0 min\n",
      "1   [3. 0.]   \n",
      "prob: 0\n",
      "----------round  2 ---------- 3 0.0 min\n",
      "1   [2. 0.]   \n",
      "prob: 0\n",
      "----------round  3 ---------- 4 0.0 min\n",
      "1   [0. 1.]   :) 1/8 = 0.125\n",
      "1   [1. 0.]   \n",
      "prob: 0.125\n",
      "Probability: 0.125\n"
     ]
    }
   ],
   "source": [
    "          "
   ]
  },
  {
   "cell_type": "code",
   "execution_count": 50,
   "id": "695205af-8fa5-4e65-a3b2-3dc66d3ea117",
   "metadata": {},
   "outputs": [
    {
     "name": "stdout",
     "output_type": "stream",
     "text": [
      "----------round  1 ---------- 3 0.0 min\n",
      "1   [3. 3. 0.]   \n",
      "prob: 0\n",
      "----------round  2 ---------- 6 0.0 min\n",
      "1   [2. 3. 0.]   \n",
      "1   [3. 2. 0.]   \n",
      "prob: 0\n",
      "----------round  3 ---------- 10 0.0 min\n",
      "1   [0. 3. 1.]   :) 1/27 = 0.037\n",
      "1   [1. 3. 0.]   \n",
      "2   [2. 2. 0.]   \n",
      "1   [3. 0. 1.]   :) 1/27 = 0.037\n",
      "1   [3. 1. 0.]   \n",
      "prob: 0.07407\n",
      "----------round  4 ---------- 15 0.0 min\n",
      "4   [0. 2. 1.]   :) 4/81 = 0.049\n",
      "3   [1. 2. 0.]   \n",
      "4   [2. 0. 1.]   :) 4/81 = 0.049\n",
      "3   [2. 1. 0.]   \n",
      "prob: 0.17284\n",
      "----------round  5 ---------- 21 0.0 min\n",
      "10   [0. 1. 1.]   :) 10/243 = 0.041\n",
      "10   [1. 0. 1.]   :) 10/243 = 0.041\n",
      "6   [1. 1. 0.]   \n",
      "prob: 0.25514\n",
      "Probability: 0.2551440329218107\n"
     ]
    }
   ],
   "source": [
    "t = time.time()\n",
    "n=3\n",
    "prob = 0\n",
    "for round_i in range(1,2+2*(n-1)):\n",
    "    print(\"----------round \",round_i,\"----------\",len(list(combinations_with_replacement(np.arange(n),round_i))),round((time.time()-t)/60,1),\"min\")\n",
    "    for shoots in combinations_with_replacement(np.arange(n),round_i):\n",
    "        lives = f_lives(n)\n",
    "        for shoot in shoots:\n",
    "            lives[shoot] -= 1\n",
    "        \n",
    "        if len([i for i in lives if i == 0]) == 1:\n",
    "            if lives[-1] == 1:\n",
    "                ways = len(set(list(permutations(shoots))))\n",
    "                prob += ways/n**round_i\n",
    "                state = ':) '+str(ways)+'/'+str(n**round_i) + ' = ' + str(round(ways/n**round_i,3))\n",
    "            else:\n",
    "                ways = len(set(list(permutations(shoots[:-1]))))\n",
    "                state = ''\n",
    "        if len([i for i in lives if i == 0]) == 1 and min(lives)>=0:  \n",
    "            a = 1\n",
    "            print(ways,' ',lives,' ',state)\n",
    "            \n",
    "    print(\"prob:\",round(prob,5))\n",
    "print(\"Probability:\",prob)  "
   ]
  },
  {
   "cell_type": "code",
   "execution_count": 68,
   "id": "67a57891-1e59-447b-9653-9599986778ea",
   "metadata": {},
   "outputs": [
    {
     "name": "stdout",
     "output_type": "stream",
     "text": [
      "time: 12.8 s\n",
      "probability: 58.632 %\n"
     ]
    }
   ],
   "source": [
    "n = 40\n",
    "A = []\n",
    "iteration = 100000\n",
    "win_lose = [0,0]\n",
    "t = time.time()\n",
    "for i in range(iteration):\n",
    "    lives = f_lives(n)\n",
    "    while min(lives) != 0:\n",
    "        shoot = np.random.randint(n)\n",
    "        lives[shoot] -= 1\n",
    "    if argmin(lives) != n-1:\n",
    "        win_lose[0] += 1 # win\n",
    "    else:\n",
    "        win_lose[1] += 1 # lose\n",
    "print(\"time:\",round(time.time() - t,2),\"s\")\n",
    "print(\"probability:\",100*win_lose[0]/sum(win_lose),\"%\")"
   ]
  },
  {
   "cell_type": "code",
   "execution_count": 45,
   "id": "ad54dc74-cf8b-4909-94bb-910b72517db4",
   "metadata": {},
   "outputs": [
    {
     "data": {
      "text/plain": [
       "(2, 2, 2, 2, 2)"
      ]
     },
     "execution_count": 45,
     "metadata": {},
     "output_type": "execute_result"
    }
   ],
   "source": [
    "shoots"
   ]
  },
  {
   "cell_type": "code",
   "execution_count": 46,
   "id": "99e4c035-3253-495d-ba47-3850b1527f5e",
   "metadata": {},
   "outputs": [
    {
     "name": "stdout",
     "output_type": "stream",
     "text": [
      "(0, 0, 0, 0, 0)\n",
      "(0, 0, 0, 0, 1)\n",
      "(0, 0, 0, 0, 2)\n",
      "(0, 0, 0, 1, 1)\n",
      "(0, 0, 0, 1, 2)\n",
      "(0, 0, 0, 2, 2)\n",
      "(0, 0, 1, 1, 1)\n",
      "(0, 0, 1, 1, 2)\n",
      "(0, 0, 1, 2, 2)\n",
      "(0, 0, 2, 2, 2)\n",
      "(0, 1, 1, 1, 1)\n",
      "(0, 1, 1, 1, 2)\n",
      "(0, 1, 1, 2, 2)\n",
      "(0, 1, 2, 2, 2)\n",
      "(0, 2, 2, 2, 2)\n",
      "(1, 1, 1, 1, 1)\n",
      "(1, 1, 1, 1, 2)\n",
      "(1, 1, 1, 2, 2)\n",
      "(1, 1, 2, 2, 2)\n",
      "(1, 2, 2, 2, 2)\n",
      "(2, 2, 2, 2, 2)\n"
     ]
    }
   ],
   "source": [
    "for shoots in combinations_with_replacement(np.arange(n),round_i):\n",
    "    print(shoots)"
   ]
  },
  {
   "cell_type": "code",
   "execution_count": 47,
   "id": "f14f4148-33c1-4076-bf4d-abe7ec9b74b5",
   "metadata": {},
   "outputs": [
    {
     "data": {
      "text/plain": [
       "5"
      ]
     },
     "execution_count": 47,
     "metadata": {},
     "output_type": "execute_result"
    }
   ],
   "source": [
    "P[A|B]*P[B|C]*P[C]"
   ]
  },
  {
   "cell_type": "code",
   "execution_count": 56,
   "id": "5ee38962-f1f5-4ee8-8420-37bddffa2744",
   "metadata": {},
   "outputs": [
    {
     "data": {
      "text/plain": [
       "0.3127572016460905"
      ]
     },
     "execution_count": 56,
     "metadata": {},
     "output_type": "execute_result"
    }
   ],
   "source": [
    "(2/3)*(2/3)*1/3 + (2/3)*(2/3)*(2/3)*1/3 + (2/3)*(2/3)*(2/3)*(2/3)*1/3"
   ]
  },
  {
   "cell_type": "code",
   "execution_count": 54,
   "id": "a5beca14-a358-4679-9197-105514dc1872",
   "metadata": {},
   "outputs": [
    {
     "data": {
      "text/plain": [
       "0.09876543209876543"
      ]
     },
     "execution_count": 54,
     "metadata": {},
     "output_type": "execute_result"
    }
   ],
   "source": [
    "(2/3)*(2/3)*(2/3)*1/3"
   ]
  },
  {
   "cell_type": "code",
   "execution_count": 73,
   "id": "e197c07f-6690-46e7-9d3b-50bf50066080",
   "metadata": {},
   "outputs": [
    {
     "name": "stdout",
     "output_type": "stream",
     "text": [
      "2\n",
      "3\n",
      "4\n"
     ]
    }
   ],
   "source": [
    "for i in range(2,5):\n",
    "    print(i)"
   ]
  },
  {
   "cell_type": "code",
   "execution_count": 87,
   "id": "30df5d58-73e9-4bc7-b96a-bd5bf13e8aad",
   "metadata": {},
   "outputs": [
    {
     "name": "stdout",
     "output_type": "stream",
     "text": [
      "time: 13.93 s\n",
      "Players: 2 probability: 0.125237 +- 0.033086063934489485 %\n",
      "time: 17.73 s\n",
      "Players: 3 probability: 0.197768 +- 0.03839314940080159 %\n",
      "time: 20.24 s\n",
      "Players: 4 probability: 0.246889 +- 0.03329628904316433 %\n",
      "time: 23.24 s\n",
      "Players: 5 probability: 0.28564 +- 0.03962354700806431 %\n",
      "time: 26.4 s\n",
      "Players: 6 probability: 0.31609299999999996 +- 0.03161250209865965 %\n",
      "time: 29.3 s\n",
      "Players: 7 probability: 0.342063 +- 0.04003098351347772 %\n",
      "time: 32.16 s\n",
      "Players: 8 probability: 0.363614 +- 0.025410559284356694 %\n",
      "time: 35.05 s\n",
      "Players: 9 probability: 0.38109899999999997 +- 0.037618570969171324 %\n",
      "time: 38.15 s\n",
      "Players: 10 probability: 0.39845499999999995 +- 0.03988381114146389 %\n",
      "time: 41.01 s\n",
      "Players: 11 probability: 0.41393599999999997 +- 0.034954190023808444 %\n",
      "time: 44.24 s\n",
      "Players: 12 probability: 0.42643700000000007 +- 0.03429561466810234 %\n",
      "time: 46.34 s\n",
      "Players: 13 probability: 0.437908 +- 0.032846689337768145 %\n",
      "time: 49.02 s\n",
      "Players: 14 probability: 0.4487629999999999 +- 0.05086140468666716 %\n",
      "time: 52.43 s\n",
      "Players: 15 probability: 0.45932700000000004 +- 0.04288527501442716 %\n",
      "time: 55.61 s\n",
      "Players: 16 probability: 0.468066 +- 0.036020601307968796 %\n",
      "time: 58.54 s\n",
      "Players: 17 probability: 0.476569 +- 0.026900482490096193 %\n",
      "time: 61.99 s\n",
      "Players: 18 probability: 0.4846850000000001 +- 0.037682723840015205 %\n",
      "time: 64.45 s\n",
      "Players: 19 probability: 0.491521 +- 0.03592751305801962 %\n",
      "time: 67.58 s\n",
      "Players: 20 probability: 0.4992819999999999 +- 0.03415728603458505 %\n",
      "time: 70.02 s\n",
      "Players: 21 probability: 0.5058670000000001 +- 0.036642656178123734 %\n",
      "time: 74.38 s\n",
      "Players: 22 probability: 0.5125569999999999 +- 0.035962997043513203 %\n",
      "time: 76.6 s\n",
      "Players: 23 probability: 0.518036 +- 0.034053734682048364 %\n",
      "time: 79.93 s\n",
      "Players: 24 probability: 0.523923 +- 0.039694330451855164 %\n",
      "time: 82.61 s\n",
      "Players: 25 probability: 0.5301009999999999 +- 0.03971106009553006 %\n",
      "time: 85.51 s\n",
      "Players: 26 probability: 0.534117 +- 0.03589129640314929 %\n",
      "time: 88.73 s\n",
      "Players: 27 probability: 0.5384469999999999 +- 0.04256615739361903 %\n",
      "time: 93.81 s\n",
      "Players: 28 probability: 0.543735 +- 0.034529853484104346 %\n",
      "time: 96.15 s\n",
      "Players: 29 probability: 0.548817 +- 0.03290596272271735 %\n",
      "time: 99.53 s\n",
      "Players: 30 probability: 0.5524899999999999 +- 0.032625090691790024 %\n",
      "time: 102.41 s\n",
      "Players: 31 probability: 0.5562149999999999 +- 0.034209541043846485 %\n",
      "time: 104.69 s\n",
      "Players: 32 probability: 0.5610750000000001 +- 0.0351321937818576 %\n",
      "time: 109.56 s\n",
      "Players: 33 probability: 0.5644330000000001 +- 0.033843499654620295 %\n",
      "time: 114.37 s\n",
      "Players: 34 probability: 0.56773 +- 0.04322666871746158 %\n",
      "time: 120.35 s\n",
      "Players: 35 probability: 0.570924 +- 0.039846319730350084 %\n",
      "time: 121.09 s\n",
      "Players: 36 probability: 0.574674 +- 0.040974668572236646 %\n",
      "time: 124.22 s\n",
      "Players: 37 probability: 0.5782939999999999 +- 0.03140635224007859 %\n",
      "time: 128.41 s\n",
      "Players: 38 probability: 0.580846 +- 0.03832275275014484 %\n",
      "time: 134.84 s\n",
      "Players: 39 probability: 0.585161 +- 0.03889832015068549 %\n",
      "time: 137.19 s\n",
      "Players: 40 probability: 0.588346 +- 0.033794267830447706 %\n",
      "time: 141.89 s\n",
      "Players: 41 probability: 0.590291 +- 0.02946325714050099 %\n",
      "time: 145.93 s\n",
      "Players: 42 probability: 0.5932810000000001 +- 0.03861610902289259 %\n",
      "time: 148.41 s\n",
      "Players: 43 probability: 0.595804 +- 0.03201759412694771 %\n",
      "time: 151.82 s\n",
      "Players: 44 probability: 0.5988589999999999 +- 0.036873735734407366 %\n",
      "time: 156.17 s\n",
      "Players: 45 probability: 0.6011949999999999 +- 0.03713959456373332 %\n",
      "time: 162.3 s\n",
      "Players: 46 probability: 0.604559 +- 0.0400597449183422 %\n",
      "time: 163.92 s\n",
      "Players: 47 probability: 0.606318 +- 0.036395733095707095 %\n",
      "time: 168.86 s\n",
      "Players: 48 probability: 0.6084940000000001 +- 0.038094721062855885 %\n",
      "time: 182.42 s\n",
      "Players: 49 probability: 0.611313 +- 0.03529261317729547 %\n"
     ]
    }
   ],
   "source": [
    "result_50 = []\n",
    "for i in range(2,50):    \n",
    "    n = i   \n",
    "    t = time.time()\n",
    "    \n",
    "    Archive = []\n",
    "    for j in range(10):\n",
    "        iteration = int(1e5)\n",
    "        win_lose = [0,0]\n",
    "        for it in range(iteration):\n",
    "            lives = f_lives(n)\n",
    "            while min(lives) != 0:\n",
    "                shoot = np.random.randint(n)\n",
    "                lives[shoot] -= 1\n",
    "            if argmin(lives) != n-1:\n",
    "                win_lose[0] += 1 # win\n",
    "            else:\n",
    "                win_lose[1] += 1 # lose\n",
    "        Archive.append(win_lose[0]/sum(win_lose))\n",
    "    \n",
    "    print(\"time:\",round(time.time() - t,2),\"s\")\n",
    "    print(\"Players:\",n,\"probability:\",np.mean(Archive),\"+-\",np.sqrt(np.std(Archive)),\"%\")    \n",
    "    result_50.append(Archive)"
   ]
  },
  {
   "cell_type": "code",
   "execution_count": 85,
   "id": "70bcbd03-6341-4ddc-a8f7-76cf26a04929",
   "metadata": {},
   "outputs": [
    {
     "data": {
      "text/plain": [
       "[[0.12581, 0.12598, 0.12416, 0.12535, 0.12396],\n",
       " [0.19823, 0.1964, 0.19899, 0.19963, 0.19753],\n",
       " [0.24752, 0.24791, 0.24762, 0.24989, 0.24784]]"
      ]
     },
     "execution_count": 85,
     "metadata": {},
     "output_type": "execute_result"
    }
   ],
   "source": [
    "result"
   ]
  },
  {
   "cell_type": "code",
   "execution_count": 90,
   "id": "b9365240-ac3c-453f-8aef-5542ce4f0a31",
   "metadata": {},
   "outputs": [
    {
     "data": {
      "text/plain": [
       "{'whiskers': [<matplotlib.lines.Line2D at 0x1b1e12089a0>,\n",
       "  <matplotlib.lines.Line2D at 0x1b1e1208d30>,\n",
       "  <matplotlib.lines.Line2D at 0x1b1e3935310>,\n",
       "  <matplotlib.lines.Line2D at 0x1b1e39356a0>,\n",
       "  <matplotlib.lines.Line2D at 0x1b1e3948c40>,\n",
       "  <matplotlib.lines.Line2D at 0x1b1e3948fd0>,\n",
       "  <matplotlib.lines.Line2D at 0x1b1e39545b0>,\n",
       "  <matplotlib.lines.Line2D at 0x1b1e3954940>,\n",
       "  <matplotlib.lines.Line2D at 0x1b1e17efee0>,\n",
       "  <matplotlib.lines.Line2D at 0x1b1e17fc2b0>,\n",
       "  <matplotlib.lines.Line2D at 0x1b1e1806880>,\n",
       "  <matplotlib.lines.Line2D at 0x1b1e1806c10>,\n",
       "  <matplotlib.lines.Line2D at 0x1b1e181c1f0>,\n",
       "  <matplotlib.lines.Line2D at 0x1b1e181c580>,\n",
       "  <matplotlib.lines.Line2D at 0x1b1e1826b20>,\n",
       "  <matplotlib.lines.Line2D at 0x1b1e1826eb0>,\n",
       "  <matplotlib.lines.Line2D at 0x1b1e183e490>,\n",
       "  <matplotlib.lines.Line2D at 0x1b1e183e820>,\n",
       "  <matplotlib.lines.Line2D at 0x1b1e1849dc0>,\n",
       "  <matplotlib.lines.Line2D at 0x1b1e1855190>,\n",
       "  <matplotlib.lines.Line2D at 0x1b1e185f730>,\n",
       "  <matplotlib.lines.Line2D at 0x1b1e185fac0>,\n",
       "  <matplotlib.lines.Line2D at 0x1b1e186be20>,\n",
       "  <matplotlib.lines.Line2D at 0x1b1e187b1f0>,\n",
       "  <matplotlib.lines.Line2D at 0x1b1e1883790>,\n",
       "  <matplotlib.lines.Line2D at 0x1b1e1883b20>,\n",
       "  <matplotlib.lines.Line2D at 0x1b1e189c100>,\n",
       "  <matplotlib.lines.Line2D at 0x1b1e189c490>,\n",
       "  <matplotlib.lines.Line2D at 0x1b1e18a7a30>,\n",
       "  <matplotlib.lines.Line2D at 0x1b1e18a7dc0>,\n",
       "  <matplotlib.lines.Line2D at 0x1b1e18be3a0>,\n",
       "  <matplotlib.lines.Line2D at 0x1b1e18be730>,\n",
       "  <matplotlib.lines.Line2D at 0x1b1e18c8cd0>,\n",
       "  <matplotlib.lines.Line2D at 0x1b1e18d70a0>,\n",
       "  <matplotlib.lines.Line2D at 0x1b1e18e1640>,\n",
       "  <matplotlib.lines.Line2D at 0x1b1e18e19d0>,\n",
       "  <matplotlib.lines.Line2D at 0x1b1e18eef70>,\n",
       "  <matplotlib.lines.Line2D at 0x1b1e18fa340>,\n",
       "  <matplotlib.lines.Line2D at 0x1b1e19078e0>,\n",
       "  <matplotlib.lines.Line2D at 0x1b1e1907c70>,\n",
       "  <matplotlib.lines.Line2D at 0x1b1e191c250>,\n",
       "  <matplotlib.lines.Line2D at 0x1b1e191c5e0>,\n",
       "  <matplotlib.lines.Line2D at 0x1b1e1929b80>,\n",
       "  <matplotlib.lines.Line2D at 0x1b1e1929f10>,\n",
       "  <matplotlib.lines.Line2D at 0x1b1e19414f0>,\n",
       "  <matplotlib.lines.Line2D at 0x1b1e1941880>,\n",
       "  <matplotlib.lines.Line2D at 0x1b1e194ae20>,\n",
       "  <matplotlib.lines.Line2D at 0x1b1e19571f0>,\n",
       "  <matplotlib.lines.Line2D at 0x1b1e1963790>,\n",
       "  <matplotlib.lines.Line2D at 0x1b1e1963b20>,\n",
       "  <matplotlib.lines.Line2D at 0x1b1e1977100>,\n",
       "  <matplotlib.lines.Line2D at 0x1b1e1977490>,\n",
       "  <matplotlib.lines.Line2D at 0x1b1e1984a30>,\n",
       "  <matplotlib.lines.Line2D at 0x1b1e1984dc0>,\n",
       "  <matplotlib.lines.Line2D at 0x1b1e19983a0>,\n",
       "  <matplotlib.lines.Line2D at 0x1b1e1998730>,\n",
       "  <matplotlib.lines.Line2D at 0x1b1e19a3cd0>,\n",
       "  <matplotlib.lines.Line2D at 0x1b1e19b10a0>,\n",
       "  <matplotlib.lines.Line2D at 0x1b1e19bb640>,\n",
       "  <matplotlib.lines.Line2D at 0x1b1e19bb9d0>,\n",
       "  <matplotlib.lines.Line2D at 0x1b1e19c8f70>,\n",
       "  <matplotlib.lines.Line2D at 0x1b1e19d3340>,\n",
       "  <matplotlib.lines.Line2D at 0x1b1e19e08e0>,\n",
       "  <matplotlib.lines.Line2D at 0x1b1e19e0c70>,\n",
       "  <matplotlib.lines.Line2D at 0x1b1e19f6250>,\n",
       "  <matplotlib.lines.Line2D at 0x1b1e19f65e0>,\n",
       "  <matplotlib.lines.Line2D at 0x1b1e1a03b80>,\n",
       "  <matplotlib.lines.Line2D at 0x1b1e1a03f10>,\n",
       "  <matplotlib.lines.Line2D at 0x1b1e1a1b4f0>,\n",
       "  <matplotlib.lines.Line2D at 0x1b1e1a1b880>,\n",
       "  <matplotlib.lines.Line2D at 0x1b1e1a25e20>,\n",
       "  <matplotlib.lines.Line2D at 0x1b1e1a321f0>,\n",
       "  <matplotlib.lines.Line2D at 0x1b1e1a3c790>,\n",
       "  <matplotlib.lines.Line2D at 0x1b1e1a3cb20>,\n",
       "  <matplotlib.lines.Line2D at 0x1b1e1a55100>,\n",
       "  <matplotlib.lines.Line2D at 0x1b1e1a55490>,\n",
       "  <matplotlib.lines.Line2D at 0x1b1e1a5ea30>,\n",
       "  <matplotlib.lines.Line2D at 0x1b1e1a5edc0>,\n",
       "  <matplotlib.lines.Line2D at 0x1b1e1a763a0>,\n",
       "  <matplotlib.lines.Line2D at 0x1b1e1a76730>,\n",
       "  <matplotlib.lines.Line2D at 0x1b1e1a82cd0>,\n",
       "  <matplotlib.lines.Line2D at 0x1b1e1a8f0a0>,\n",
       "  <matplotlib.lines.Line2D at 0x1b1e1a9a640>,\n",
       "  <matplotlib.lines.Line2D at 0x1b1e1a9a9d0>,\n",
       "  <matplotlib.lines.Line2D at 0x1b1e1aa5f70>,\n",
       "  <matplotlib.lines.Line2D at 0x1b1e1ab0340>,\n",
       "  <matplotlib.lines.Line2D at 0x1b1e1abd940>,\n",
       "  <matplotlib.lines.Line2D at 0x1b1e1abdd00>,\n",
       "  <matplotlib.lines.Line2D at 0x1b1e1ad22e0>,\n",
       "  <matplotlib.lines.Line2D at 0x1b1e1ad2670>,\n",
       "  <matplotlib.lines.Line2D at 0x1b1e1ae0c10>,\n",
       "  <matplotlib.lines.Line2D at 0x1b1e1ae0fa0>,\n",
       "  <matplotlib.lines.Line2D at 0x1b1e1af7580>,\n",
       "  <matplotlib.lines.Line2D at 0x1b1e1af7910>,\n",
       "  <matplotlib.lines.Line2D at 0x1b1e1b02eb0>,\n",
       "  <matplotlib.lines.Line2D at 0x1b1e1b0d280>],\n",
       " 'caps': [<matplotlib.lines.Line2D at 0x1b1e3931100>,\n",
       "  <matplotlib.lines.Line2D at 0x1b1e3931490>,\n",
       "  <matplotlib.lines.Line2D at 0x1b1e3935a30>,\n",
       "  <matplotlib.lines.Line2D at 0x1b1e3935dc0>,\n",
       "  <matplotlib.lines.Line2D at 0x1b1e39303a0>,\n",
       "  <matplotlib.lines.Line2D at 0x1b1e3930730>,\n",
       "  <matplotlib.lines.Line2D at 0x1b1e3954cd0>,\n",
       "  <matplotlib.lines.Line2D at 0x1b1e17ef0a0>,\n",
       "  <matplotlib.lines.Line2D at 0x1b1e17fc640>,\n",
       "  <matplotlib.lines.Line2D at 0x1b1e17fc9d0>,\n",
       "  <matplotlib.lines.Line2D at 0x1b1e1806fa0>,\n",
       "  <matplotlib.lines.Line2D at 0x1b1e1812370>,\n",
       "  <matplotlib.lines.Line2D at 0x1b1e181c910>,\n",
       "  <matplotlib.lines.Line2D at 0x1b1e181cca0>,\n",
       "  <matplotlib.lines.Line2D at 0x1b1e1832280>,\n",
       "  <matplotlib.lines.Line2D at 0x1b1e1832610>,\n",
       "  <matplotlib.lines.Line2D at 0x1b1e183ebb0>,\n",
       "  <matplotlib.lines.Line2D at 0x1b1e183ef40>,\n",
       "  <matplotlib.lines.Line2D at 0x1b1e1855520>,\n",
       "  <matplotlib.lines.Line2D at 0x1b1e18558b0>,\n",
       "  <matplotlib.lines.Line2D at 0x1b1e185fe50>,\n",
       "  <matplotlib.lines.Line2D at 0x1b1e186b220>,\n",
       "  <matplotlib.lines.Line2D at 0x1b1e187b580>,\n",
       "  <matplotlib.lines.Line2D at 0x1b1e187b910>,\n",
       "  <matplotlib.lines.Line2D at 0x1b1e1883eb0>,\n",
       "  <matplotlib.lines.Line2D at 0x1b1e188e280>,\n",
       "  <matplotlib.lines.Line2D at 0x1b1e189c820>,\n",
       "  <matplotlib.lines.Line2D at 0x1b1e189cbb0>,\n",
       "  <matplotlib.lines.Line2D at 0x1b1e18b2190>,\n",
       "  <matplotlib.lines.Line2D at 0x1b1e18b2520>,\n",
       "  <matplotlib.lines.Line2D at 0x1b1e18beac0>,\n",
       "  <matplotlib.lines.Line2D at 0x1b1e18bee50>,\n",
       "  <matplotlib.lines.Line2D at 0x1b1e18d7430>,\n",
       "  <matplotlib.lines.Line2D at 0x1b1e18d77c0>,\n",
       "  <matplotlib.lines.Line2D at 0x1b1e18e1d60>,\n",
       "  <matplotlib.lines.Line2D at 0x1b1e18ee130>,\n",
       "  <matplotlib.lines.Line2D at 0x1b1e18fa6d0>,\n",
       "  <matplotlib.lines.Line2D at 0x1b1e18faa60>,\n",
       "  <matplotlib.lines.Line2D at 0x1b1e1910040>,\n",
       "  <matplotlib.lines.Line2D at 0x1b1e19103d0>,\n",
       "  <matplotlib.lines.Line2D at 0x1b1e191c970>,\n",
       "  <matplotlib.lines.Line2D at 0x1b1e191cd00>,\n",
       "  <matplotlib.lines.Line2D at 0x1b1e19332e0>,\n",
       "  <matplotlib.lines.Line2D at 0x1b1e1933670>,\n",
       "  <matplotlib.lines.Line2D at 0x1b1e1941c10>,\n",
       "  <matplotlib.lines.Line2D at 0x1b1e1941fa0>,\n",
       "  <matplotlib.lines.Line2D at 0x1b1e1957580>,\n",
       "  <matplotlib.lines.Line2D at 0x1b1e1957910>,\n",
       "  <matplotlib.lines.Line2D at 0x1b1e1963eb0>,\n",
       "  <matplotlib.lines.Line2D at 0x1b1e196d280>,\n",
       "  <matplotlib.lines.Line2D at 0x1b1e1977820>,\n",
       "  <matplotlib.lines.Line2D at 0x1b1e1977bb0>,\n",
       "  <matplotlib.lines.Line2D at 0x1b1e1990190>,\n",
       "  <matplotlib.lines.Line2D at 0x1b1e1990520>,\n",
       "  <matplotlib.lines.Line2D at 0x1b1e1998ac0>,\n",
       "  <matplotlib.lines.Line2D at 0x1b1e1998e50>,\n",
       "  <matplotlib.lines.Line2D at 0x1b1e19b1430>,\n",
       "  <matplotlib.lines.Line2D at 0x1b1e19b17c0>,\n",
       "  <matplotlib.lines.Line2D at 0x1b1e19bbd60>,\n",
       "  <matplotlib.lines.Line2D at 0x1b1e19c8130>,\n",
       "  <matplotlib.lines.Line2D at 0x1b1e19d36d0>,\n",
       "  <matplotlib.lines.Line2D at 0x1b1e19d3a60>,\n",
       "  <matplotlib.lines.Line2D at 0x1b1e19eb040>,\n",
       "  <matplotlib.lines.Line2D at 0x1b1e19eb3d0>,\n",
       "  <matplotlib.lines.Line2D at 0x1b1e19f6970>,\n",
       "  <matplotlib.lines.Line2D at 0x1b1e19f6d00>,\n",
       "  <matplotlib.lines.Line2D at 0x1b1e1a0e2e0>,\n",
       "  <matplotlib.lines.Line2D at 0x1b1e1a0e670>,\n",
       "  <matplotlib.lines.Line2D at 0x1b1e1a1bc10>,\n",
       "  <matplotlib.lines.Line2D at 0x1b1e1a1bfa0>,\n",
       "  <matplotlib.lines.Line2D at 0x1b1e1a32580>,\n",
       "  <matplotlib.lines.Line2D at 0x1b1e1a32910>,\n",
       "  <matplotlib.lines.Line2D at 0x1b1e1a3ceb0>,\n",
       "  <matplotlib.lines.Line2D at 0x1b1e1a47280>,\n",
       "  <matplotlib.lines.Line2D at 0x1b1e1a55820>,\n",
       "  <matplotlib.lines.Line2D at 0x1b1e1a55bb0>,\n",
       "  <matplotlib.lines.Line2D at 0x1b1e1a6c190>,\n",
       "  <matplotlib.lines.Line2D at 0x1b1e1a6c520>,\n",
       "  <matplotlib.lines.Line2D at 0x1b1e1a76ac0>,\n",
       "  <matplotlib.lines.Line2D at 0x1b1e1a76e50>,\n",
       "  <matplotlib.lines.Line2D at 0x1b1e1a8f430>,\n",
       "  <matplotlib.lines.Line2D at 0x1b1e1a8f7c0>,\n",
       "  <matplotlib.lines.Line2D at 0x1b1e1a9ad60>,\n",
       "  <matplotlib.lines.Line2D at 0x1b1e1aa5130>,\n",
       "  <matplotlib.lines.Line2D at 0x1b1e1ab06d0>,\n",
       "  <matplotlib.lines.Line2D at 0x1b1e1ab0a60>,\n",
       "  <matplotlib.lines.Line2D at 0x1b1e1ac70d0>,\n",
       "  <matplotlib.lines.Line2D at 0x1b1e1ac7460>,\n",
       "  <matplotlib.lines.Line2D at 0x1b1e1ad2a00>,\n",
       "  <matplotlib.lines.Line2D at 0x1b1e1ad2d90>,\n",
       "  <matplotlib.lines.Line2D at 0x1b1e1aea370>,\n",
       "  <matplotlib.lines.Line2D at 0x1b1e1aea700>,\n",
       "  <matplotlib.lines.Line2D at 0x1b1e1af7ca0>,\n",
       "  <matplotlib.lines.Line2D at 0x1b1e1b02070>,\n",
       "  <matplotlib.lines.Line2D at 0x1b1e1b0d610>,\n",
       "  <matplotlib.lines.Line2D at 0x1b1e1b0d9a0>],\n",
       " 'boxes': [<matplotlib.lines.Line2D at 0x1b1e12085b0>,\n",
       "  <matplotlib.lines.Line2D at 0x1b1e3931f40>,\n",
       "  <matplotlib.lines.Line2D at 0x1b1e39488b0>,\n",
       "  <matplotlib.lines.Line2D at 0x1b1e3954220>,\n",
       "  <matplotlib.lines.Line2D at 0x1b1e17efb50>,\n",
       "  <matplotlib.lines.Line2D at 0x1b1e18064f0>,\n",
       "  <matplotlib.lines.Line2D at 0x1b1e1812e20>,\n",
       "  <matplotlib.lines.Line2D at 0x1b1e1826790>,\n",
       "  <matplotlib.lines.Line2D at 0x1b1e183e100>,\n",
       "  <matplotlib.lines.Line2D at 0x1b1e1849a30>,\n",
       "  <matplotlib.lines.Line2D at 0x1b1e185f3a0>,\n",
       "  <matplotlib.lines.Line2D at 0x1b1e186ba90>,\n",
       "  <matplotlib.lines.Line2D at 0x1b1e1883400>,\n",
       "  <matplotlib.lines.Line2D at 0x1b1e188ed30>,\n",
       "  <matplotlib.lines.Line2D at 0x1b1e18a76a0>,\n",
       "  <matplotlib.lines.Line2D at 0x1b1e18b2fd0>,\n",
       "  <matplotlib.lines.Line2D at 0x1b1e18c8940>,\n",
       "  <matplotlib.lines.Line2D at 0x1b1e18e12b0>,\n",
       "  <matplotlib.lines.Line2D at 0x1b1e18eebe0>,\n",
       "  <matplotlib.lines.Line2D at 0x1b1e1907550>,\n",
       "  <matplotlib.lines.Line2D at 0x1b1e1910e80>,\n",
       "  <matplotlib.lines.Line2D at 0x1b1e19297f0>,\n",
       "  <matplotlib.lines.Line2D at 0x1b1e1941160>,\n",
       "  <matplotlib.lines.Line2D at 0x1b1e194aa90>,\n",
       "  <matplotlib.lines.Line2D at 0x1b1e1963400>,\n",
       "  <matplotlib.lines.Line2D at 0x1b1e196dd30>,\n",
       "  <matplotlib.lines.Line2D at 0x1b1e19846a0>,\n",
       "  <matplotlib.lines.Line2D at 0x1b1e1990fd0>,\n",
       "  <matplotlib.lines.Line2D at 0x1b1e19a3940>,\n",
       "  <matplotlib.lines.Line2D at 0x1b1e19bb2b0>,\n",
       "  <matplotlib.lines.Line2D at 0x1b1e19c8be0>,\n",
       "  <matplotlib.lines.Line2D at 0x1b1e19e0550>,\n",
       "  <matplotlib.lines.Line2D at 0x1b1e19ebe80>,\n",
       "  <matplotlib.lines.Line2D at 0x1b1e1a037f0>,\n",
       "  <matplotlib.lines.Line2D at 0x1b1e1a1b160>,\n",
       "  <matplotlib.lines.Line2D at 0x1b1e1a25a90>,\n",
       "  <matplotlib.lines.Line2D at 0x1b1e1a3c400>,\n",
       "  <matplotlib.lines.Line2D at 0x1b1e1a47d30>,\n",
       "  <matplotlib.lines.Line2D at 0x1b1e1a5e6a0>,\n",
       "  <matplotlib.lines.Line2D at 0x1b1e1a6cfd0>,\n",
       "  <matplotlib.lines.Line2D at 0x1b1e1a82940>,\n",
       "  <matplotlib.lines.Line2D at 0x1b1e1a9a2b0>,\n",
       "  <matplotlib.lines.Line2D at 0x1b1e1aa5be0>,\n",
       "  <matplotlib.lines.Line2D at 0x1b1e1abd550>,\n",
       "  <matplotlib.lines.Line2D at 0x1b1e1ac7f10>,\n",
       "  <matplotlib.lines.Line2D at 0x1b1e1ae0880>,\n",
       "  <matplotlib.lines.Line2D at 0x1b1e1af71f0>,\n",
       "  <matplotlib.lines.Line2D at 0x1b1e1b02b20>],\n",
       " 'medians': [<matplotlib.lines.Line2D at 0x1b1e3931820>,\n",
       "  <matplotlib.lines.Line2D at 0x1b1e3948190>,\n",
       "  <matplotlib.lines.Line2D at 0x1b1e3930ac0>,\n",
       "  <matplotlib.lines.Line2D at 0x1b1e17ef430>,\n",
       "  <matplotlib.lines.Line2D at 0x1b1e17fcd60>,\n",
       "  <matplotlib.lines.Line2D at 0x1b1e1812700>,\n",
       "  <matplotlib.lines.Line2D at 0x1b1e1826070>,\n",
       "  <matplotlib.lines.Line2D at 0x1b1e18329a0>,\n",
       "  <matplotlib.lines.Line2D at 0x1b1e1849310>,\n",
       "  <matplotlib.lines.Line2D at 0x1b1e1855c40>,\n",
       "  <matplotlib.lines.Line2D at 0x1b1e186b5b0>,\n",
       "  <matplotlib.lines.Line2D at 0x1b1e187bca0>,\n",
       "  <matplotlib.lines.Line2D at 0x1b1e188e610>,\n",
       "  <matplotlib.lines.Line2D at 0x1b1e189cf40>,\n",
       "  <matplotlib.lines.Line2D at 0x1b1e18b28b0>,\n",
       "  <matplotlib.lines.Line2D at 0x1b1e18c8220>,\n",
       "  <matplotlib.lines.Line2D at 0x1b1e18d7b50>,\n",
       "  <matplotlib.lines.Line2D at 0x1b1e18ee4c0>,\n",
       "  <matplotlib.lines.Line2D at 0x1b1e18fadf0>,\n",
       "  <matplotlib.lines.Line2D at 0x1b1e1910760>,\n",
       "  <matplotlib.lines.Line2D at 0x1b1e19290d0>,\n",
       "  <matplotlib.lines.Line2D at 0x1b1e1933a00>,\n",
       "  <matplotlib.lines.Line2D at 0x1b1e194a370>,\n",
       "  <matplotlib.lines.Line2D at 0x1b1e1957ca0>,\n",
       "  <matplotlib.lines.Line2D at 0x1b1e196d610>,\n",
       "  <matplotlib.lines.Line2D at 0x1b1e1977f40>,\n",
       "  <matplotlib.lines.Line2D at 0x1b1e19908b0>,\n",
       "  <matplotlib.lines.Line2D at 0x1b1e19a3220>,\n",
       "  <matplotlib.lines.Line2D at 0x1b1e19b1b50>,\n",
       "  <matplotlib.lines.Line2D at 0x1b1e19c84c0>,\n",
       "  <matplotlib.lines.Line2D at 0x1b1e19d3df0>,\n",
       "  <matplotlib.lines.Line2D at 0x1b1e19eb760>,\n",
       "  <matplotlib.lines.Line2D at 0x1b1e1a030d0>,\n",
       "  <matplotlib.lines.Line2D at 0x1b1e1a0ea00>,\n",
       "  <matplotlib.lines.Line2D at 0x1b1e1a25370>,\n",
       "  <matplotlib.lines.Line2D at 0x1b1e1a32ca0>,\n",
       "  <matplotlib.lines.Line2D at 0x1b1e1a47610>,\n",
       "  <matplotlib.lines.Line2D at 0x1b1e1a55f40>,\n",
       "  <matplotlib.lines.Line2D at 0x1b1e1a6c8b0>,\n",
       "  <matplotlib.lines.Line2D at 0x1b1e1a82220>,\n",
       "  <matplotlib.lines.Line2D at 0x1b1e1a8fb50>,\n",
       "  <matplotlib.lines.Line2D at 0x1b1e1aa54c0>,\n",
       "  <matplotlib.lines.Line2D at 0x1b1e1ab0df0>,\n",
       "  <matplotlib.lines.Line2D at 0x1b1e1ac77f0>,\n",
       "  <matplotlib.lines.Line2D at 0x1b1e1ae0160>,\n",
       "  <matplotlib.lines.Line2D at 0x1b1e1aeaa90>,\n",
       "  <matplotlib.lines.Line2D at 0x1b1e1b02400>,\n",
       "  <matplotlib.lines.Line2D at 0x1b1e1b0dd30>],\n",
       " 'fliers': [<matplotlib.lines.Line2D at 0x1b1e3931bb0>,\n",
       "  <matplotlib.lines.Line2D at 0x1b1e3948520>,\n",
       "  <matplotlib.lines.Line2D at 0x1b1e3930e50>,\n",
       "  <matplotlib.lines.Line2D at 0x1b1e17ef7c0>,\n",
       "  <matplotlib.lines.Line2D at 0x1b1e1806160>,\n",
       "  <matplotlib.lines.Line2D at 0x1b1e1812a90>,\n",
       "  <matplotlib.lines.Line2D at 0x1b1e1826400>,\n",
       "  <matplotlib.lines.Line2D at 0x1b1e1832d30>,\n",
       "  <matplotlib.lines.Line2D at 0x1b1e18496a0>,\n",
       "  <matplotlib.lines.Line2D at 0x1b1e1855fd0>,\n",
       "  <matplotlib.lines.Line2D at 0x1b1e186b700>,\n",
       "  <matplotlib.lines.Line2D at 0x1b1e1883070>,\n",
       "  <matplotlib.lines.Line2D at 0x1b1e188e9a0>,\n",
       "  <matplotlib.lines.Line2D at 0x1b1e18a7310>,\n",
       "  <matplotlib.lines.Line2D at 0x1b1e18b2c40>,\n",
       "  <matplotlib.lines.Line2D at 0x1b1e18c85b0>,\n",
       "  <matplotlib.lines.Line2D at 0x1b1e18d7ee0>,\n",
       "  <matplotlib.lines.Line2D at 0x1b1e18ee850>,\n",
       "  <matplotlib.lines.Line2D at 0x1b1e19071c0>,\n",
       "  <matplotlib.lines.Line2D at 0x1b1e1910af0>,\n",
       "  <matplotlib.lines.Line2D at 0x1b1e1929460>,\n",
       "  <matplotlib.lines.Line2D at 0x1b1e1933d90>,\n",
       "  <matplotlib.lines.Line2D at 0x1b1e194a700>,\n",
       "  <matplotlib.lines.Line2D at 0x1b1e1963070>,\n",
       "  <matplotlib.lines.Line2D at 0x1b1e196d9a0>,\n",
       "  <matplotlib.lines.Line2D at 0x1b1e1984310>,\n",
       "  <matplotlib.lines.Line2D at 0x1b1e1990c40>,\n",
       "  <matplotlib.lines.Line2D at 0x1b1e19a35b0>,\n",
       "  <matplotlib.lines.Line2D at 0x1b1e19b1ee0>,\n",
       "  <matplotlib.lines.Line2D at 0x1b1e19c8850>,\n",
       "  <matplotlib.lines.Line2D at 0x1b1e19e01c0>,\n",
       "  <matplotlib.lines.Line2D at 0x1b1e19ebaf0>,\n",
       "  <matplotlib.lines.Line2D at 0x1b1e1a03460>,\n",
       "  <matplotlib.lines.Line2D at 0x1b1e1a0ed90>,\n",
       "  <matplotlib.lines.Line2D at 0x1b1e1a25700>,\n",
       "  <matplotlib.lines.Line2D at 0x1b1e1a3c070>,\n",
       "  <matplotlib.lines.Line2D at 0x1b1e1a479a0>,\n",
       "  <matplotlib.lines.Line2D at 0x1b1e1a5e310>,\n",
       "  <matplotlib.lines.Line2D at 0x1b1e1a6cc40>,\n",
       "  <matplotlib.lines.Line2D at 0x1b1e1a825b0>,\n",
       "  <matplotlib.lines.Line2D at 0x1b1e1a8fee0>,\n",
       "  <matplotlib.lines.Line2D at 0x1b1e1aa5850>,\n",
       "  <matplotlib.lines.Line2D at 0x1b1e1abd1c0>,\n",
       "  <matplotlib.lines.Line2D at 0x1b1e1ac7b80>,\n",
       "  <matplotlib.lines.Line2D at 0x1b1e1ae04f0>,\n",
       "  <matplotlib.lines.Line2D at 0x1b1e1aeae20>,\n",
       "  <matplotlib.lines.Line2D at 0x1b1e1b02790>,\n",
       "  <matplotlib.lines.Line2D at 0x1b1e1b1a100>],\n",
       " 'means': []}"
      ]
     },
     "execution_count": 90,
     "metadata": {},
     "output_type": "execute_result"
    },
    {
     "data": {
      "image/png": "[encoded data removed]",
      "text/plain": [
       "<Figure size 2160x720 with 1 Axes>"
      ]
     },
     "metadata": {
      "needs_background": "light"
     },
     "output_type": "display_data"
    }
   ],
   "source": [
    "plt.figure(figsize = [30,10])\n",
    "plt.boxplot(result_50)"
   ]
  },
  {
   "cell_type": "code",
   "execution_count": null,
   "id": "628864dd-af12-4c24-b602-627b4e491210",
   "metadata": {},
   "outputs": [],
   "source": []
  }
 ],
 "metadata": {
  "kernelspec": {
   "display_name": "Python 3",
   "language": "python",
   "name": "python3"
  },
  "language_info": {
   "codemirror_mode": {
    "name": "ipython",
    "version": 3
   },
   "file_extension": ".py",
   "mimetype": "text/x-python",
   "name": "python",
   "nbconvert_exporter": "python",
   "pygments_lexer": "ipython3",
   "version": "3.9.1"
  }
 },
 "nbformat": 4,
 "nbformat_minor": 5
}
