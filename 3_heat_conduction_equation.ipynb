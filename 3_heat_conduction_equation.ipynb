{
 "cells": [
  {
   "cell_type": "code",
   "execution_count": 1,
   "id": "6435a4d1-c2e0-4614-bf6c-5f56f6886045",
   "metadata": {},
   "outputs": [],
   "source": [
    "import numpy as np\n",
    "import matplotlib.pyplot as plt\n",
    "import math\n",
    "from mpl_toolkits import mplot3d\n"
   ]
  },
  {
   "cell_type": "code",
   "execution_count": 3,
   "id": "b085933e-922a-410a-a2b4-2793ebbf6cae",
   "metadata": {},
   "outputs": [],
   "source": [
    "# funkce na pravé straně rovnice vedení tepla (vnější síly)\n",
    "def f_fce(t):\n",
    "    return 0\n",
    "    \n",
    "# okrajové podmínky\n",
    "def g_fce(t):\n",
    "    return 0\n",
    "\n",
    "#vytvoří vektor a matici u0 (počáteční podmínky)\n",
    "def create_u0(h,r):\n",
    "    u0 = np.zeros([h,h])\n",
    "    for i in range(h):\n",
    "        for j in range(h):\n",
    "            circle = (j-h/2)**2+(i-h/2)**2\n",
    "            if circle<=r:\n",
    "                u0[i][j]=1\n",
    "    matrix = u0\n",
    "    vector = np.reshape(u0,h**2)\n",
    "    return [matrix,vector]\n",
    "    \n",
    "# popis rovnice vedení tepla ve 2D\n",
    "def Rovnice_vedeni_tepla_2D(t,u):\n",
    "    du = np.zeros(len(u))\n",
    "    h = int(np.sqrt(len(u)))\n",
    "    for i in range(0,h):\n",
    "        du[i] = g_fce(t)\n",
    "    for i in range(h,h**2-h):\n",
    "        if i%h==0:\n",
    "            du[i] = g_fce(t)\n",
    "        elif i%h==h-1:\n",
    "            du[i] = g_fce(t)\n",
    "        else:\n",
    "            du[i] = -4*u[i]+u[i-1]+u[i+1]+u[i-h]+u[i+h]+f_fce(t)\n",
    "    for i in range(h**2-h,h**2):\n",
    "        du[i] = g_fce(t)\n",
    "    return du\n",
    "\n",
    "def RUNGE_KUTTA(t_start,t_end,sample_step,int_step,x_ini,function):\n",
    "    stepcount = 0\n",
    "    t = t_start\n",
    "    t_int = t_start\n",
    "    x = np.array(x_ini)\n",
    "    result = []\n",
    "    while(t<t_end):\n",
    "        result.append([t,x])\n",
    "        t = t + min(sample_step,t_end-t)\n",
    "        while(t_int<t):\n",
    "            t_int = t_int + min(int_step,t-t_int)\n",
    "            k1 = int_step * function(t,x)\n",
    "            k2 = int_step * function(t + 1/3 * int_step, x + 1/3 * k1)\n",
    "            k3 = int_step * function(t + 1/3 * int_step, x + 1/6 * k1 + 1/6 * k2)\n",
    "            k4 = int_step * function(t + 1/2 * int_step, x + 1/8 * k1 + 3/8 * k3)\n",
    "            k5 = int_step * function(t + 1 * int_step, x + 1/2 * k1 - 3/2 * k3 + 2*k4)\n",
    "            x = x + 1/6 * (k1 + 4 * k4 + k5)\n",
    "            stepcount += 1\n",
    "    return [result,stepcount]\n",
    "\n",
    "def vector_to_matrix(u):\n",
    "    u = np.reshape(u,(int(np.sqrt(len(u))),int(np.sqrt(len(u)))))\n",
    "    return u"
   ]
  },
  {
   "cell_type": "code",
   "execution_count": 4,
   "id": "563b8f37-ebb0-4ae7-94dc-8376ebcca6b7",
   "metadata": {},
   "outputs": [
    {
     "data": {
      "image/png": "[encoded data removed]",
      "text/plain": [
       "<Figure size 640x480 with 1 Axes>"
      ]
     },
     "metadata": {},
     "output_type": "display_data"
    }
   ],
   "source": [
    "u0=create_u0(50,64) #počateční stav\n",
    "plt.imshow(u0[0])\n",
    "plt.show()\n"
   ]
  },
  {
   "cell_type": "code",
   "execution_count": 5,
   "id": "7cd28e53-ea73-4f4a-bf4e-2441b216b4c9",
   "metadata": {},
   "outputs": [
    {
     "data": {
      "text/plain": [
       "<matplotlib.image.AxesImage at 0x28a7aba7f50>"
      ]
     },
     "execution_count": 5,
     "metadata": {},
     "output_type": "execute_result"
    },
    {
     "data": {
      "image/png": "[encoded data removed]",
      "text/plain": [
       "<Figure size 640x480 with 1 Axes>"
      ]
     },
     "metadata": {},
     "output_type": "display_data"
    }
   ],
   "source": [
    "u0=create_u0(50,64)\n",
    "A = RUNGE_KUTTA(0,10,0.2,1e-2,u0[1],Rovnice_vedeni_tepla_2D)\n",
    "plt.imshow(vector_to_matrix(A[0][50][1]))"
   ]
  },
  {
   "cell_type": "code",
   "execution_count": 7,
   "id": "fd2145d6-f4f5-4461-9798-b04e18ba70c7",
   "metadata": {},
   "outputs": [
    {
     "ename": "NameError",
     "evalue": "name 'snapshots' is not defined",
     "output_type": "error",
     "traceback": [
      "\u001b[1;31m---------------------------------------------------------------------------\u001b[0m",
      "\u001b[1;31mNameError\u001b[0m                                 Traceback (most recent call last)",
      "Cell \u001b[1;32mIn[7], line 5\u001b[0m\n\u001b[0;32m      3\u001b[0m nSeconds \u001b[38;5;241m=\u001b[39m \u001b[38;5;241m10\u001b[39m\n\u001b[0;32m      4\u001b[0m fig \u001b[38;5;241m=\u001b[39m plt\u001b[38;5;241m.\u001b[39mfigure( figsize\u001b[38;5;241m=\u001b[39m(\u001b[38;5;241m8\u001b[39m,\u001b[38;5;241m8\u001b[39m) )\n\u001b[1;32m----> 5\u001b[0m a \u001b[38;5;241m=\u001b[39m \u001b[43msnapshots\u001b[49m[\u001b[38;5;241m0\u001b[39m]\n\u001b[0;32m      6\u001b[0m im \u001b[38;5;241m=\u001b[39m plt\u001b[38;5;241m.\u001b[39mimshow(a, interpolation\u001b[38;5;241m=\u001b[39m\u001b[38;5;124m'\u001b[39m\u001b[38;5;124mnone\u001b[39m\u001b[38;5;124m'\u001b[39m, aspect\u001b[38;5;241m=\u001b[39m\u001b[38;5;124m'\u001b[39m\u001b[38;5;124mauto\u001b[39m\u001b[38;5;124m'\u001b[39m, vmin\u001b[38;5;241m=\u001b[39m\u001b[38;5;241m0\u001b[39m, vmax\u001b[38;5;241m=\u001b[39m\u001b[38;5;241m1\u001b[39m)\n\u001b[0;32m      8\u001b[0m \u001b[38;5;28;01mdef\u001b[39;00m \u001b[38;5;21manimate_func\u001b[39m(i):\n",
      "\u001b[1;31mNameError\u001b[0m: name 'snapshots' is not defined"
     ]
    },
    {
     "data": {
      "text/plain": [
       "<Figure size 800x800 with 0 Axes>"
      ]
     },
     "metadata": {},
     "output_type": "display_data"
    }
   ],
   "source": [
    "import matplotlib.animation as animation\n",
    "\n",
    "\n",
    "fps = 20\n",
    "nSeconds = 10\n",
    "fig = plt.figure( figsize=(8,8) )\n",
    "a = snapshots[0]\n",
    "im = plt.imshow(a, interpolation='none', aspect='auto', vmin=0, vmax=1)\n",
    "\n",
    "def animate_func(i):\n",
    "    if i % fps == 0:\n",
    "        print( '.', end ='' )\n",
    "    if i < 50:\n",
    "        im.set_array(vector_to_matrix(A[0][0][1]))\n",
    "    else:\n",
    "        im.set_array(vector_to_matrix(A[0][i-49][1]))\n",
    "    return [im]\n",
    "    \n",
    "anim = animation.FuncAnimation(\n",
    "                            fig,\n",
    "                            animate_func,\n",
    "                            frames = nSeconds * fps,\n",
    "                            interval = 1000 / fps, # in ms\n",
    ")\n",
    "anim.save('test_anim2.gif', fps=fps, extra_args=['-vcodec', 'libx264'])"
   ]
  },
  {
   "cell_type": "code",
   "execution_count": 8,
   "id": "71b8b864-fe55-47da-9f1b-f5460c367373",
   "metadata": {},
   "outputs": [
    {
     "ename": "FileNotFoundError",
     "evalue": "[Errno 2] No such file or directory: 'C:\\\\Users\\\\barrf\\\\Documents\\\\GitHub-repos\\\\3fid-numerical-methods\\\\motyl.jpg'",
     "output_type": "error",
     "traceback": [
      "\u001b[1;31m---------------------------------------------------------------------------\u001b[0m",
      "\u001b[1;31mFileNotFoundError\u001b[0m                         Traceback (most recent call last)",
      "Cell \u001b[1;32mIn[8], line 3\u001b[0m\n\u001b[0;32m      1\u001b[0m \u001b[38;5;28;01mfrom\u001b[39;00m \u001b[38;5;21;01mPIL\u001b[39;00m \u001b[38;5;28;01mimport\u001b[39;00m Image\n\u001b[0;32m      2\u001b[0m fname \u001b[38;5;241m=\u001b[39m \u001b[38;5;124m'\u001b[39m\u001b[38;5;124mmotyl.jpg\u001b[39m\u001b[38;5;124m'\u001b[39m\n\u001b[1;32m----> 3\u001b[0m image \u001b[38;5;241m=\u001b[39m \u001b[43mImage\u001b[49m\u001b[38;5;241;43m.\u001b[39;49m\u001b[43mopen\u001b[49m\u001b[43m(\u001b[49m\u001b[43mfname\u001b[49m\u001b[43m)\u001b[49m\u001b[38;5;241m.\u001b[39mconvert(\u001b[38;5;124m\"\u001b[39m\u001b[38;5;124mL\u001b[39m\u001b[38;5;124m\"\u001b[39m)\n\u001b[0;32m      4\u001b[0m arr \u001b[38;5;241m=\u001b[39m np\u001b[38;5;241m.\u001b[39masarray(image)\n\u001b[0;32m      5\u001b[0m fig \u001b[38;5;241m=\u001b[39m plt\u001b[38;5;241m.\u001b[39mfigure( figsize\u001b[38;5;241m=\u001b[39m(\u001b[38;5;241m8\u001b[39m,\u001b[38;5;241m8\u001b[39m) )\n",
      "File \u001b[1;32m~\\Documents\\GitHub-repos\\venv_ipynb_work\\Lib\\site-packages\\PIL\\Image.py:3277\u001b[0m, in \u001b[0;36mopen\u001b[1;34m(fp, mode, formats)\u001b[0m\n\u001b[0;32m   3274\u001b[0m     filename \u001b[38;5;241m=\u001b[39m os\u001b[38;5;241m.\u001b[39mpath\u001b[38;5;241m.\u001b[39mrealpath(os\u001b[38;5;241m.\u001b[39mfspath(fp))\n\u001b[0;32m   3276\u001b[0m \u001b[38;5;28;01mif\u001b[39;00m filename:\n\u001b[1;32m-> 3277\u001b[0m     fp \u001b[38;5;241m=\u001b[39m \u001b[43mbuiltins\u001b[49m\u001b[38;5;241;43m.\u001b[39;49m\u001b[43mopen\u001b[49m\u001b[43m(\u001b[49m\u001b[43mfilename\u001b[49m\u001b[43m,\u001b[49m\u001b[43m \u001b[49m\u001b[38;5;124;43m\"\u001b[39;49m\u001b[38;5;124;43mrb\u001b[39;49m\u001b[38;5;124;43m\"\u001b[39;49m\u001b[43m)\u001b[49m\n\u001b[0;32m   3278\u001b[0m     exclusive_fp \u001b[38;5;241m=\u001b[39m \u001b[38;5;28;01mTrue\u001b[39;00m\n\u001b[0;32m   3280\u001b[0m \u001b[38;5;28;01mtry\u001b[39;00m:\n",
      "\u001b[1;31mFileNotFoundError\u001b[0m: [Errno 2] No such file or directory: 'C:\\\\Users\\\\barrf\\\\Documents\\\\GitHub-repos\\\\3fid-numerical-methods\\\\motyl.jpg'"
     ]
    }
   ],
   "source": [
    "from PIL import Image\n",
    "fname = 'motyl.jpg'\n",
    "image = Image.open(fname).convert(\"L\")\n",
    "arr = np.asarray(image)\n",
    "fig = plt.figure( figsize=(8,8) )\n",
    "plt.imshow(arr, cmap='gray', vmin=0, vmax=255)\n",
    "plt.show()\n"
   ]
  },
  {
   "cell_type": "code",
   "execution_count": 9,
   "id": "1d700ff9-3df7-4187-bb48-41f0f1d346a2",
   "metadata": {},
   "outputs": [
    {
     "ename": "NameError",
     "evalue": "name 'image' is not defined",
     "output_type": "error",
     "traceback": [
      "\u001b[1;31m---------------------------------------------------------------------------\u001b[0m",
      "\u001b[1;31mNameError\u001b[0m                                 Traceback (most recent call last)",
      "Cell \u001b[1;32mIn[9], line 2\u001b[0m\n\u001b[0;32m      1\u001b[0m shape \u001b[38;5;241m=\u001b[39m \u001b[38;5;241m100\u001b[39m \u001b[38;5;66;03m#z z obrazku 1000 x 1000 udeláme 100x100\u001b[39;00m\n\u001b[1;32m----> 2\u001b[0m image \u001b[38;5;241m=\u001b[39m \u001b[43mimage\u001b[49m\u001b[38;5;241m.\u001b[39mresize((shape,shape))\n\u001b[0;32m      3\u001b[0m arr \u001b[38;5;241m=\u001b[39m np\u001b[38;5;241m.\u001b[39masarray(image)\n\u001b[0;32m      4\u001b[0m fig \u001b[38;5;241m=\u001b[39m plt\u001b[38;5;241m.\u001b[39mfigure( figsize\u001b[38;5;241m=\u001b[39m(\u001b[38;5;241m8\u001b[39m,\u001b[38;5;241m8\u001b[39m) )\n",
      "\u001b[1;31mNameError\u001b[0m: name 'image' is not defined"
     ]
    }
   ],
   "source": [
    "shape = 100 #z z obrazku 1000 x 1000 udeláme 100x100\n",
    "image = image.resize((shape,shape))\n",
    "arr = np.asarray(image)\n",
    "fig = plt.figure( figsize=(8,8) )\n",
    "plt.imshow(arr, cmap='gray', vmin=0, vmax=255)\n",
    "plt.show()\n"
   ]
  },
  {
   "cell_type": "code",
   "execution_count": null,
   "id": "f14541a6-8725-480a-ad81-6f9b7d9e3cb4",
   "metadata": {},
   "outputs": [],
   "source": []
  }
 ],
 "metadata": {
  "kernelspec": {
   "display_name": "Python 3 (ipykernel)",
   "language": "python",
   "name": "python3"
  },
  "language_info": {
   "codemirror_mode": {
    "name": "ipython",
    "version": 3
   },
   "file_extension": ".py",
   "mimetype": "text/x-python",
   "name": "python",
   "nbconvert_exporter": "python",
   "pygments_lexer": "ipython3",
   "version": "3.12.2"
  }
 },
 "nbformat": 4,
 "nbformat_minor": 5
}
